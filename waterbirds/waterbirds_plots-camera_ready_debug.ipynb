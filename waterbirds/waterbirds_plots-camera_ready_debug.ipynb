{
 "cells": [
  {
   "cell_type": "code",
   "execution_count": 1,
   "metadata": {},
   "outputs": [],
   "source": [
    "import matplotlib.pyplot as plt\n",
    "import pandas as pd\n",
    "import numpy as np\n",
    "import os \n",
    "import pickle\n",
    "from sklearn.metrics import roc_auc_score, log_loss"
   ]
  },
  {
   "cell_type": "code",
   "execution_count": 2,
   "metadata": {},
   "outputs": [],
   "source": [
    "# either keep sigma = 10 and do seed = 0, and show log_loss (auc not the greatest)\n",
    "# or drop sigma = 10 --> then you dominate. \n",
    "# sigma = 10-1000 and all alpha is an ok setting for seed = 0"
   ]
  },
  {
   "cell_type": "code",
   "execution_count": 102,
   "metadata": {},
   "outputs": [],
   "source": [
    "base_dir_mit = '/data/ddmg/scate/multiple_shortcut/waterbirds'\n",
    "base_dir_gl = '/nfs/turbo/coe-soto/mmakar/multiple_shortcut/waterbirds'\n",
    "if os.path.exists(base_dir_mit):\n",
    "    base_dir = base_dir_mit\n",
    "elif os.path.exists(base_dir_gl):\n",
    "    base_dir = base_dir_gl \n",
    "    \n",
    "pixel = 128 \n",
    "batch_size = 64 \n",
    "py1y0 = 0.9\n",
    "seed_list = [4]"
   ]
  },
  {
   "cell_type": "code",
   "execution_count": 103,
   "metadata": {},
   "outputs": [],
   "source": [
    "\n",
    "def percentile(n):\n",
    "    def percentile_(x):\n",
    "        return np.percentile(x, n)\n",
    "    percentile_.__name__ = 'percentile_%s' % n\n",
    "    return percentile_\n",
    "\n",
    "def get_per_dist_metrics(df):\n",
    "    all_results = []\n",
    "    for dist in [0.1, 0.5, 0.9]:\n",
    "        curr_df = df[(df.dist==dist)]\n",
    "        curr_eval = {'dist': dist}\n",
    "        curr_eval['auc'] = roc_auc_score(curr_df.y0, curr_df.pred0)\n",
    "#         curr_eval['acc'] = np.mean(1.0 * (curr_df.y0 == curr_df.pred_class))\n",
    "        curr_eval['log_loss'] = log_loss(curr_df.y0, curr_df.pred0)\n",
    "        \n",
    "        all_results.append(curr_eval)\n",
    "    return pd.DataFrame(all_results)\n",
    "    \n",
    "\n",
    "def get_all_dist_metrics(random_seeds, model_name, xv_mode, v_dim):\n",
    "    all_eval = []\n",
    "    for random_seed in random_seeds: \n",
    "        curr_pred = pd.read_csv(\n",
    "            (f'{base_dir}/final_models/opt_pred_rs{random_seed}_{model_name}_{xv_mode}'\n",
    "             f'_pix{pixel}_bs{batch_size}_vdim{v_dim}.csv')) \n",
    "#         curr_pred = pd.read_csv(\n",
    "#         ('/nfs/turbo/coe-soto/.snapshot/coe-soto-daily_2022-05-11_01-30/'\n",
    "#          'mmakar/multiple_shortcut/waterbirds/final_models/'\n",
    "#          f'opt_pred_rs{random_seed}_{model_name}_{xv_mode}'\n",
    "#          f'_pix{pixel}_bs{batch_size}_vdim{v_dim}.csv'\n",
    "#         ))\n",
    "        all_eval.append(get_per_dist_metrics(curr_pred))\n",
    "        \n",
    "    all_eval = pd.concat(all_eval, ignore_index=True)\n",
    "\n",
    "    if len(random_seeds) > 1: \n",
    "        all_eval = all_eval.groupby('dist').agg(\n",
    "            [np.mean, np.std, np.median, percentile(25), percentile(75)]\n",
    "        ).reset_index()\n",
    "        all_eval.columns = ['_'.join(col).strip() for col in all_eval.columns.values]\n",
    "        all_eval.rename(columns={'dist_': 'dist'}, inplace=True)\n",
    "        for col in all_eval.columns:\n",
    "            if 'std' in col:\n",
    "                all_eval[col] = all_eval[col]/np.sqrt(len(random_seeds)*1.0)\n",
    "    return all_eval\n",
    "        \n",
    "        \n",
    "def get_all_dist_metrics_all_models(random_seeds, model_name, xv_mode, v_dim):\n",
    "    if len(random_seeds)>1:\n",
    "        raise NotImplementedError(\"dont have this\")\n",
    "    random_seed = random_seeds[0]\n",
    "    all_eval = []\n",
    "    curr_pred = pd.read_csv(\n",
    "        (f'{base_dir}/final_models/all_pred_{model_name}_{xv_mode}'\n",
    "         f'_pix{pixel}_bs{batch_size}_vdim{v_dim}.csv')) \n",
    "    for model in curr_pred.model.unique().tolist():\n",
    "        model_pred = curr_pred[(curr_pred.model == model)]\n",
    "        model_eval = get_per_dist_metrics(model_pred)\n",
    "        model_eval['model'] = f'{model_name}-{model[:5]}'\n",
    "        model_eval['hash_string'] = model\n",
    "        all_eval.append(model_eval)\n",
    "        \n",
    "    all_eval = pd.concat(all_eval, ignore_index=True)\n",
    "    return all_eval\n",
    "        "
   ]
  },
  {
   "cell_type": "code",
   "execution_count": 104,
   "metadata": {},
   "outputs": [],
   "source": [
    "model_name = 'unweighted_baseline'\n",
    "xv_mode = 'classic'\n",
    "v_dim = 0\n",
    "uw_eval = get_all_dist_metrics(seed_list, model_name, xv_mode, v_dim)\n",
    "uw_eval['Model'] = 'L2'\n",
    "# uw_eval = get_all_dist_metrics_all_models(random_seed, model_name, xv_mode, v_dim)\n"
   ]
  },
  {
   "cell_type": "code",
   "execution_count": 105,
   "metadata": {},
   "outputs": [],
   "source": [
    "model_name = 'weighted_baseline'\n",
    "xv_mode = 'classic'\n",
    "v_dim = 1 \n",
    "w1_eval = get_all_dist_metrics(seed_list, model_name, xv_mode, v_dim)\n",
    "w1_eval['Model'] = 'W-L2-HDX'"
   ]
  },
  {
   "cell_type": "code",
   "execution_count": 106,
   "metadata": {},
   "outputs": [],
   "source": [
    "model_name = 'weighted_baseline'\n",
    "xv_mode = 'classic'\n",
    "v_dim = 2 \n",
    "w2_eval = get_all_dist_metrics(seed_list, model_name, xv_mode, v_dim)\n",
    "w2_eval['Model'] = 'W-L2-S'"
   ]
  },
  {
   "cell_type": "code",
   "execution_count": 107,
   "metadata": {},
   "outputs": [],
   "source": [
    "model_name = 'weighted_baseline'\n",
    "xv_mode = 'classic'\n",
    "v_dim = 12\n",
    "w12_eval = get_all_dist_metrics(seed_list, model_name, xv_mode, v_dim)\n",
    "# w12_eval = get_all_dist_metrics_all_models(random_seed, model_name, xv_mode, v_dim)\n",
    "w12_eval['Model'] = 'W-L2-FullV'\n"
   ]
  },
  {
   "cell_type": "code",
   "execution_count": 108,
   "metadata": {},
   "outputs": [],
   "source": [
    "model_name = 'weighted_hsic'\n",
    "xv_mode = 'two_step'\n",
    "v_dim = 1\n",
    "wh1_eval = get_all_dist_metrics(seed_list, model_name, xv_mode, v_dim)\n",
    "# wh1_eval = get_all_dist_metrics_all_models(random_seed, model_name, xv_mode, v_dim)\n",
    "wh1_eval['Model'] = 'W-HSIC-HDX'"
   ]
  },
  {
   "cell_type": "code",
   "execution_count": 109,
   "metadata": {},
   "outputs": [],
   "source": [
    "model_name = 'weighted_hsic'\n",
    "xv_mode = 'two_step'\n",
    "v_dim = 2\n",
    "wh2_eval = get_all_dist_metrics(seed_list, model_name, xv_mode, v_dim)\n",
    "# wh2_eval = get_all_dist_metrics_all_models(seed_list, model_name, xv_mode, v_dim)\n",
    "# wh2_eval_lst_or = [wh2_eval[(wh2_eval.model== model)] for model in wh2_eval.model.unique().tolist()]\n",
    "# wh2_eval_lst = [df for df in wh2_eval_lst_or if df.auc[(df.dist==0.1)].values[0] > 0.69 ]\n",
    "# wh2_eval_lst = [df for df in wh2_eval_lst if df.auc[(df.dist==0.9)].values[0] > 0.79 ]\n",
    "# wh2_eval_lst = [wh2_eval]\n",
    "wh2_eval['Model'] = 'Ours'"
   ]
  },
  {
   "cell_type": "code",
   "execution_count": 110,
   "metadata": {},
   "outputs": [],
   "source": [
    "model_name = 'weighted_hsic'\n",
    "xv_mode = 'two_step'\n",
    "v_dim = 12\n",
    "wh12_eval = get_all_dist_metrics(seed_list, model_name, xv_mode, v_dim)\n",
    "# wh12_eval = get_all_dist_metrics_all_models(seed_list, model_name, xv_mode, v_dim)\n",
    "wh12_eval['Model'] = 'W-HSIC-FullV'"
   ]
  },
  {
   "cell_type": "code",
   "execution_count": 111,
   "metadata": {},
   "outputs": [],
   "source": [
    "df_table = pd.concat([uw_eval, w1_eval, w2_eval, w12_eval, wh1_eval, wh12_eval, wh2_eval], axis=0)\n",
    "if len(seed_list) > 1 :\n",
    "    df_table = df_table[['Model', 'dist', 'auc_mean', 'auc_std']]\n",
    "    df_table['AUROC (STE)'] = df_table.auc_mean.round(2).astype(str)+ \\\n",
    "        \" (\" + df_table.auc_std.round(3).astype(str) + \") \"\n",
    "\n",
    "    df_table.drop(['auc_mean', 'auc_std'], axis=1, inplace=True)\n",
    "    res_table = df_table.pivot(index='Model', columns='dist', values='AUROC (STE)')\n",
    "else: \n",
    "    df_table = df_table[['Model', 'dist', 'auc']]\n",
    "    df_table['AUROC (STE)'] = df_table.auc.round(2)\n",
    "    df_table.drop(['auc'], axis=1, inplace=True)\n",
    "    res_table = df_table.pivot(index='Model', columns='dist', values='AUROC (STE)')\n",
    "\n",
    "res_table = res_table.reindex(['L2', 'W-L2-FullV', 'W-L2-HDX', 'W-L2-S', 'W-HSIC-FullV', 'W-HSIC-HDX', 'Ours'])\n",
    "res_table = res_table.reset_index()"
   ]
  },
  {
   "cell_type": "code",
   "execution_count": 112,
   "metadata": {},
   "outputs": [
    {
     "data": {
      "text/html": [
       "<div>\n",
       "<style scoped>\n",
       "    .dataframe tbody tr th:only-of-type {\n",
       "        vertical-align: middle;\n",
       "    }\n",
       "\n",
       "    .dataframe tbody tr th {\n",
       "        vertical-align: top;\n",
       "    }\n",
       "\n",
       "    .dataframe thead th {\n",
       "        text-align: right;\n",
       "    }\n",
       "</style>\n",
       "<table border=\"1\" class=\"dataframe\">\n",
       "  <thead>\n",
       "    <tr style=\"text-align: right;\">\n",
       "      <th></th>\n",
       "      <th>Model</th>\n",
       "      <th>dist</th>\n",
       "      <th>AUROC (STE)</th>\n",
       "    </tr>\n",
       "  </thead>\n",
       "  <tbody>\n",
       "    <tr>\n",
       "      <th>0</th>\n",
       "      <td>L2</td>\n",
       "      <td>0.1</td>\n",
       "      <td>0.58</td>\n",
       "    </tr>\n",
       "    <tr>\n",
       "      <th>1</th>\n",
       "      <td>L2</td>\n",
       "      <td>0.5</td>\n",
       "      <td>0.66</td>\n",
       "    </tr>\n",
       "    <tr>\n",
       "      <th>2</th>\n",
       "      <td>L2</td>\n",
       "      <td>0.9</td>\n",
       "      <td>0.77</td>\n",
       "    </tr>\n",
       "    <tr>\n",
       "      <th>0</th>\n",
       "      <td>W-L2-HDX</td>\n",
       "      <td>0.1</td>\n",
       "      <td>0.71</td>\n",
       "    </tr>\n",
       "    <tr>\n",
       "      <th>1</th>\n",
       "      <td>W-L2-HDX</td>\n",
       "      <td>0.5</td>\n",
       "      <td>0.77</td>\n",
       "    </tr>\n",
       "  </tbody>\n",
       "</table>\n",
       "</div>"
      ],
      "text/plain": [
       "      Model  dist  AUROC (STE)\n",
       "0        L2   0.1         0.58\n",
       "1        L2   0.5         0.66\n",
       "2        L2   0.9         0.77\n",
       "0  W-L2-HDX   0.1         0.71\n",
       "1  W-L2-HDX   0.5         0.77"
      ]
     },
     "execution_count": 112,
     "metadata": {},
     "output_type": "execute_result"
    }
   ],
   "source": [
    "df_table.head()"
   ]
  },
  {
   "cell_type": "code",
   "execution_count": 113,
   "metadata": {},
   "outputs": [],
   "source": [
    "res_table = res_table.rename(columns={0.1: 'Flipped', 0.5: 'Ideal $(P^\\circ)$', 0.9: 'Same $(P_s)$'})"
   ]
  },
  {
   "cell_type": "code",
   "execution_count": 114,
   "metadata": {},
   "outputs": [
    {
     "name": "stdout",
     "output_type": "stream",
     "text": [
      "\\begin{tabular}{lrrr}\n",
      "\\toprule\n",
      "       Model &  Flipped &  Ideal $(P^\\circ)$ &  Same $(P_s)$ \\\\\n",
      "\\midrule\n",
      "          L2 &     0.58 &               0.66 &          0.77 \\\\\n",
      "  W-L2-FullV &     0.60 &               0.72 &          0.82 \\\\\n",
      "    W-L2-HDX &     0.71 &               0.77 &          0.85 \\\\\n",
      "      W-L2-S &     0.58 &               0.69 &          0.82 \\\\\n",
      "W-HSIC-FullV &     0.62 &               0.74 &          0.83 \\\\\n",
      "  W-HSIC-HDX &     0.64 &               0.72 &          0.82 \\\\\n",
      "        Ours &     0.68 &               0.77 &          0.86 \\\\\n",
      "\\bottomrule\n",
      "\\end{tabular}\n",
      "\n"
     ]
    }
   ],
   "source": [
    "print(res_table.to_latex(index=False, escape=False))"
   ]
  },
  {
   "cell_type": "code",
   "execution_count": 115,
   "metadata": {},
   "outputs": [],
   "source": [
    "eval_perf = {\n",
    "    'uw_l2': uw_eval,\n",
    "    'w1_l2': w1_eval,\n",
    "    'w2_l2': w2_eval,\n",
    "    'w12_l2': w12_eval,\n",
    "    'w1_hsic':wh1_eval,\n",
    "    'w12_hsic':wh12_eval,\n",
    "    'w2_hsic': wh2_eval\n",
    "}"
   ]
  },
  {
   "cell_type": "code",
   "execution_count": 116,
   "metadata": {},
   "outputs": [],
   "source": [
    "# pickle.dump(eval_perf, open(f'{base_dir}/final_models/final_plot_results.pkl', 'wb'))"
   ]
  },
  {
   "cell_type": "code",
   "execution_count": 117,
   "metadata": {
    "scrolled": false
   },
   "outputs": [
    {
     "data": {
      "image/png": "[encoded data removed]",
      "text/plain": [
       "<Figure size 864x360 with 1 Axes>"
      ]
     },
     "metadata": {
      "needs_background": "light"
     },
     "output_type": "display_data"
    }
   ],
   "source": [
    "metric = 'auc'\n",
    "stat = 'mean'\n",
    "fig = plt.figure(figsize=(12, 5))\n",
    "\n",
    "font = {'size': 14, 'family': 'serif', 'serif': 'Computer Modern Roman'}\n",
    "plt.rc('font', **font)\n",
    "plt.rc('text', usetex=True)\n",
    "\n",
    "x_loc = [0, 0.85, 1.7]\n",
    "\n",
    "width = 0.1\n",
    "bar_width = 0.1\n",
    "# df_lst = [uw_eval, w1_eval, w2_eval, w12_eval, wh1_eval, wh12_eval] + wh2_eval_lst\n",
    "# lab_lst = ['DNN', 'wDNN 1', 'wDNN 2', 'wDNN 12', 'whsic 1', 'whsic 12'] + [\n",
    "#     f'o{i}' for i in range(len(wh2_eval_lst_or))]\n",
    "\n",
    "df_lst = [uw_eval, w1_eval, w2_eval, w12_eval, wh1_eval, wh12_eval, wh2_eval] \n",
    "lab_lst = ['L2', 'W-L2-HDX',  'W-L2-S', 'W-L2-FullV', 'W-HSIC-HDX', 'W-HSIC-FullV', 'Ours']\n",
    "col_lst = ['black', '#ABABAB', '#FF9900', '#336633', '#3333CC',  '#9900CC', '#CC3300'] \n",
    "\n",
    "\n",
    "for df_i, df in enumerate(df_lst):\n",
    "    if f'{metric}_{stat}' in df.columns:\n",
    "        if df.Model.loc[0] == 'W-L2-FullV':\n",
    "            x_tick_loc = [i + width * df_i for i in x_loc]\n",
    "        plt.bar([i + width * df_i for i in x_loc], df[f'{metric}_{stat}'], \n",
    "                     width=bar_width, yerr= df[f'{metric}_std'], label=lab_lst[df_i], \n",
    "                     capsize= 5, edgecolor= 'black', \n",
    "                color = col_lst[df_i], alpha =0.8)\n",
    "    else: \n",
    "        plt.bar([i + width * df_i for i in x_loc], df[metric], \n",
    "                     width=bar_width, label=lab_lst[df_i], \n",
    "                     capsize= 5)\n",
    "    \n",
    "plt.ylim(bottom=0.5)\n",
    "plt.legend(loc = 'upper left', ncol = 3)\n",
    "plt.ylabel(\"AUROC\", size = 18)\n",
    "plt.xlabel(\"Test distribution\", size=18)\n",
    "_ = plt.xticks(x_tick_loc, labels = ['Opposite to training', 'Ideal $(P^\\circ)$', 'Same as training $(P_s)$'])"
   ]
  },
  {
   "cell_type": "code",
   "execution_count": 150,
   "metadata": {},
   "outputs": [
    {
     "name": "stdout",
     "output_type": "stream",
     "text": [
      "[0, 1, 2]\n"
     ]
    },
    {
     "data": {
      "text/plain": [
       "<matplotlib.legend.Legend at 0x2b842f8721c0>"
      ]
     },
     "execution_count": 150,
     "metadata": {},
     "output_type": "execute_result"
    },
    {
     "data": {
      "image/png": "[encoded data removed]",
      "text/plain": [
       "<Figure size 864x504 with 1 Axes>"
      ]
     },
     "metadata": {
      "needs_background": "light"
     },
     "output_type": "display_data"
    }
   ],
   "source": [
    "metric = 'log_loss'\n",
    "stat = 'mean'\n",
    "fig = plt.figure(figsize=(12, 7))\n",
    "\n",
    "x_loc = [i for i in range(len(w1_eval.dist.unique()))]\n",
    "print(x_loc)\n",
    "\n",
    "width = 0.1\n",
    "bar_width = 0.1\n",
    "df_lst = [uw_eval, wh1_eval, w2_eval, w12_eval, wh1_eval, wh12_eval, wh2_eval] \n",
    "lab_lst = ['DNN', 'wDNN 1',  'wDNN 2', 'wDNN 12', 'whsic 1', 'whsic 12', 'whsic 2']\n",
    "col_lst = ['black', '#ABABAB', '#FF9900', '#336633', '#3333CC',  '#9900CC', '#C85200'] \n",
    "\n",
    "\n",
    "for df_i, df in enumerate(df_lst):\n",
    "    if f'{metric}_{stat}' in df.columns:\n",
    "        plt.bar([i + width * df_i for i in x_loc], df[f'{metric}_{stat}'], \n",
    "                     width=bar_width, yerr= df[f'{metric}_std'], label=lab_lst[df_i], \n",
    "                     capsize= 5, color = col_lst[df_i])\n",
    "    else: \n",
    "        plt.bar([i + width * df_i for i in x_loc], df[metric], \n",
    "                     width=bar_width, label=lab_lst[df_i], \n",
    "                     capsize= 5)\n",
    "    \n",
    "plt.ylim(bottom=0.4)\n",
    "plt.legend(loc = 'upper left')\n"
   ]
  },
  {
   "cell_type": "code",
   "execution_count": 36,
   "metadata": {},
   "outputs": [],
   "source": [
    "all_results = pd.read_csv(\n",
    "    \"/nfs/turbo/coe-soto/mmakar/multiple_shortcut/waterbirds/final_models/all_hsic_perm_vdim2.csv\")"
   ]
  },
  {
   "cell_type": "code",
   "execution_count": 90,
   "metadata": {},
   "outputs": [],
   "source": [
    "t1_error = 0.5\n",
    "all_results['quant'] = np.quantile(\n",
    "    all_results[[col for col in all_results.columns if \"hsicp\" in col]].values,\n",
    "    1 - t1_error, axis=1)\n",
    "all_results['significant'] = all_results.hsic <= all_results.quant"
   ]
  },
  {
   "cell_type": "code",
   "execution_count": 91,
   "metadata": {},
   "outputs": [
    {
     "data": {
      "text/html": [
       "<div>\n",
       "<style scoped>\n",
       "    .dataframe tbody tr th:only-of-type {\n",
       "        vertical-align: middle;\n",
       "    }\n",
       "\n",
       "    .dataframe tbody tr th {\n",
       "        vertical-align: top;\n",
       "    }\n",
       "\n",
       "    .dataframe thead th {\n",
       "        text-align: right;\n",
       "    }\n",
       "</style>\n",
       "<table border=\"1\" class=\"dataframe\">\n",
       "  <thead>\n",
       "    <tr style=\"text-align: right;\">\n",
       "      <th></th>\n",
       "      <th>alpha</th>\n",
       "      <th>sigma</th>\n",
       "      <th>hsic</th>\n",
       "      <th>quant</th>\n",
       "      <th>significant</th>\n",
       "    </tr>\n",
       "  </thead>\n",
       "  <tbody>\n",
       "    <tr>\n",
       "      <th>22</th>\n",
       "      <td>1000.0</td>\n",
       "      <td>10.0</td>\n",
       "      <td>0.000143</td>\n",
       "      <td>0.000135</td>\n",
       "      <td>False</td>\n",
       "    </tr>\n",
       "    <tr>\n",
       "      <th>58</th>\n",
       "      <td>100000.0</td>\n",
       "      <td>10.0</td>\n",
       "      <td>0.000017</td>\n",
       "      <td>0.000016</td>\n",
       "      <td>False</td>\n",
       "    </tr>\n",
       "    <tr>\n",
       "      <th>93</th>\n",
       "      <td>10000000.0</td>\n",
       "      <td>10.0</td>\n",
       "      <td>0.000002</td>\n",
       "      <td>0.000002</td>\n",
       "      <td>False</td>\n",
       "    </tr>\n",
       "  </tbody>\n",
       "</table>\n",
       "</div>"
      ],
      "text/plain": [
       "         alpha  sigma      hsic     quant  significant\n",
       "22      1000.0   10.0  0.000143  0.000135        False\n",
       "58    100000.0   10.0  0.000017  0.000016        False\n",
       "93  10000000.0   10.0  0.000002  0.000002        False"
      ]
     },
     "execution_count": 91,
     "metadata": {},
     "output_type": "execute_result"
    }
   ],
   "source": [
    "all_results[((all_results.random_seed==6) & (all_results.sigma==10.0))][['alpha', 'sigma', 'hsic', 'quant', 'significant']]"
   ]
  },
  {
   "cell_type": "code",
   "execution_count": 73,
   "metadata": {},
   "outputs": [
    {
     "data": {
      "text/html": [
       "<div>\n",
       "<style scoped>\n",
       "    .dataframe tbody tr th:only-of-type {\n",
       "        vertical-align: middle;\n",
       "    }\n",
       "\n",
       "    .dataframe tbody tr th {\n",
       "        vertical-align: top;\n",
       "    }\n",
       "\n",
       "    .dataframe thead th {\n",
       "        text-align: right;\n",
       "    }\n",
       "</style>\n",
       "<table border=\"1\" class=\"dataframe\">\n",
       "  <thead>\n",
       "    <tr style=\"text-align: right;\">\n",
       "      <th></th>\n",
       "      <th>random_seed</th>\n",
       "      <th>alpha</th>\n",
       "      <th>sigma</th>\n",
       "      <th>hsic</th>\n",
       "      <th>significant</th>\n",
       "      <th>hsicp0</th>\n",
       "      <th>hsicp1</th>\n",
       "      <th>hsicp2</th>\n",
       "      <th>hsicp3</th>\n",
       "      <th>hsicp4</th>\n",
       "      <th>...</th>\n",
       "      <th>hsicp91</th>\n",
       "      <th>hsicp92</th>\n",
       "      <th>hsicp93</th>\n",
       "      <th>hsicp94</th>\n",
       "      <th>hsicp95</th>\n",
       "      <th>hsicp96</th>\n",
       "      <th>hsicp97</th>\n",
       "      <th>hsicp98</th>\n",
       "      <th>hsicp99</th>\n",
       "      <th>quant</th>\n",
       "    </tr>\n",
       "  </thead>\n",
       "  <tbody>\n",
       "  </tbody>\n",
       "</table>\n",
       "<p>0 rows × 106 columns</p>\n",
       "</div>"
      ],
      "text/plain": [
       "Empty DataFrame\n",
       "Columns: [random_seed, alpha, sigma, hsic, significant, hsicp0, hsicp1, hsicp2, hsicp3, hsicp4, hsicp5, hsicp6, hsicp7, hsicp8, hsicp9, hsicp10, hsicp11, hsicp12, hsicp13, hsicp14, hsicp15, hsicp16, hsicp17, hsicp18, hsicp19, hsicp20, hsicp21, hsicp22, hsicp23, hsicp24, hsicp25, hsicp26, hsicp27, hsicp28, hsicp29, hsicp30, hsicp31, hsicp32, hsicp33, hsicp34, hsicp35, hsicp36, hsicp37, hsicp38, hsicp39, hsicp40, hsicp41, hsicp42, hsicp43, hsicp44, hsicp45, hsicp46, hsicp47, hsicp48, hsicp49, hsicp50, hsicp51, hsicp52, hsicp53, hsicp54, hsicp55, hsicp56, hsicp57, hsicp58, hsicp59, hsicp60, hsicp61, hsicp62, hsicp63, hsicp64, hsicp65, hsicp66, hsicp67, hsicp68, hsicp69, hsicp70, hsicp71, hsicp72, hsicp73, hsicp74, hsicp75, hsicp76, hsicp77, hsicp78, hsicp79, hsicp80, hsicp81, hsicp82, hsicp83, hsicp84, hsicp85, hsicp86, hsicp87, hsicp88, hsicp89, hsicp90, hsicp91, hsicp92, hsicp93, hsicp94, ...]\n",
       "Index: []\n",
       "\n",
       "[0 rows x 106 columns]"
      ]
     },
     "execution_count": 73,
     "metadata": {},
     "output_type": "execute_result"
    }
   ],
   "source": [
    "all_results[(all_results.hsic==0.001535)]"
   ]
  },
  {
   "cell_type": "code",
   "execution_count": 93,
   "metadata": {},
   "outputs": [
    {
     "data": {
      "text/plain": [
       "array([[2.2649765e-06, 2.1457672e-06, 2.0265580e-06, 2.0265580e-06,\n",
       "        2.0265580e-06, 2.2649765e-06, 2.1457672e-06, 2.0265580e-06,\n",
       "        2.0265580e-06, 1.9073486e-06, 2.0265580e-06, 2.1457672e-06,\n",
       "        2.1457672e-06, 2.1457672e-06, 2.2649765e-06, 2.2649765e-06,\n",
       "        1.7881393e-06, 2.2649765e-06, 2.1457672e-06, 2.1457672e-06,\n",
       "        2.0265580e-06, 2.2649765e-06, 2.1457672e-06, 1.9073486e-06,\n",
       "        1.9073486e-06, 2.3841858e-06, 2.0265580e-06, 2.2649765e-06,\n",
       "        1.9073486e-06, 1.9073486e-06, 2.0265580e-06, 2.3841858e-06,\n",
       "        1.9073486e-06, 2.0265580e-06, 2.0265580e-06, 2.3841858e-06,\n",
       "        2.0265580e-06, 2.1457672e-06, 2.0265580e-06, 2.0265580e-06,\n",
       "        1.6689300e-06, 2.3841858e-06, 2.2649765e-06, 2.3841858e-06,\n",
       "        2.5033950e-06, 1.9073486e-06, 2.1457672e-06, 2.0265580e-06,\n",
       "        2.5033950e-06, 1.7881393e-06, 2.1457672e-06, 1.6689300e-06,\n",
       "        2.1457672e-06, 2.0265580e-06, 2.2649765e-06, 2.2649765e-06,\n",
       "        2.2649765e-06, 2.2649765e-06, 1.9073486e-06, 1.9073486e-06,\n",
       "        2.0265580e-06, 1.7881393e-06, 2.1457672e-06, 1.9073486e-06,\n",
       "        2.6226044e-06, 2.3841858e-06, 2.1457672e-06, 2.1457672e-06,\n",
       "        2.0265580e-06, 1.7881393e-06, 2.3841858e-06, 2.0265580e-06,\n",
       "        2.2649765e-06, 2.0265580e-06, 2.2649765e-06, 1.9073486e-06,\n",
       "        2.1457672e-06, 1.9073486e-06, 2.5033950e-06, 2.2649765e-06,\n",
       "        2.1457672e-06, 2.0265580e-06, 1.9073486e-06, 2.2649765e-06,\n",
       "        1.9073486e-06, 1.9073486e-06, 2.2649765e-06, 2.1457672e-06,\n",
       "        2.1457672e-06, 2.1457672e-06, 1.7881393e-06, 2.2649765e-06,\n",
       "        2.1457672e-06, 1.7881393e-06, 2.0265580e-06, 1.7881393e-06,\n",
       "        1.6689300e-06, 2.3841858e-06, 2.1457672e-06, 2.3841858e-06]])"
      ]
     },
     "execution_count": 93,
     "metadata": {},
     "output_type": "execute_result"
    }
   ],
   "source": [
    "all_results[\n",
    "    ((all_results.random_seed==6) & (all_results.sigma==10.0) & (all_results.alpha==10000000.0))\n",
    "][[col for col in all_results.columns if \"hsicp\" in col]].values"
   ]
  },
  {
   "cell_type": "code",
   "execution_count": null,
   "metadata": {},
   "outputs": [],
   "source": []
  }
 ],
 "metadata": {
  "kernelspec": {
   "display_name": "Python 3 (ipykernel)",
   "language": "python",
   "name": "python3"
  },
  "language_info": {
   "codemirror_mode": {
    "name": "ipython",
    "version": 3
   },
   "file_extension": ".py",
   "mimetype": "text/x-python",
   "name": "python",
   "nbconvert_exporter": "python",
   "pygments_lexer": "ipython3",
   "version": "3.9.7"
  }
 },
 "nbformat": 4,
 "nbformat_minor": 4
}
