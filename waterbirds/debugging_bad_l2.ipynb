{
 "cells": [
  {
   "cell_type": "code",
   "execution_count": 2,
   "id": "9869c934",
   "metadata": {},
   "outputs": [],
   "source": [
    "import configurator"
   ]
  },
  {
   "cell_type": "code",
   "execution_count": 3,
   "id": "f4cd5ba3",
   "metadata": {},
   "outputs": [],
   "source": [
    "base_dir = '/nfs/turbo/coe-soto/mmakar/multiple_shortcut/waterbirds/' \n",
    "model_name = 'unweighted_baseline'\n",
    "xv_mode = 'classic'\n",
    "pixel = 128 \n",
    "batch_size = 64\n",
    "v_dim = 0 \n",
    "eval_group = 'valid'\n"
   ]
  },
  {
   "cell_type": "code",
   "execution_count": 4,
   "id": "4ff0cb82",
   "metadata": {},
   "outputs": [
    {
     "name": "stdout",
     "output_type": "stream",
     "text": [
      "{'random_seed': [0, 1, 2, 3, 4, 6, 7, 8, 9], 'pixel': [128], 'l2_penalty': [0.0, 0.0001, 0.001], 'embedding_dim': [-1], 'sigma': [10.0], 'alpha': [0.0], 'architecture': ['pretrained_resnet'], 'batch_size': [64], 'weighted': ['False'], 'conditional_hsic': ['False'], 'num_epochs': [500], 'v_dim': [0]}\n",
      "{'random_seed': [5], 'pixel': [128], 'l2_penalty': [0.0, 0.0001, 0.001], 'embedding_dim': [-1], 'sigma': [10.0], 'alpha': [0.0], 'architecture': ['pretrained_resnet'], 'batch_size': [64], 'weighted': ['False'], 'conditional_hsic': ['False'], 'num_epochs': [500], 'v_dim': [0]}\n"
     ]
    }
   ],
   "source": [
    "all_config = configurator.get_sweep(model_name, v_dim, batch_size)\n",
    "\n",
    "filename = (f'{base_dir}/final_models/all_{eval_group}_pred_{model_name}_{xv_mode}'\n",
    "        f'_pix{pixel}_bs{batch_size}_vdim{v_dim}.csv')\n",
    "\n",
    "    "
   ]
  },
  {
   "cell_type": "code",
   "execution_count": null,
   "id": "f4c0cdad",
   "metadata": {},
   "outputs": [],
   "source": []
  }
 ],
 "metadata": {
  "kernelspec": {
   "display_name": "Python 3 (ipykernel)",
   "language": "python",
   "name": "python3"
  },
  "language_info": {
   "codemirror_mode": {
    "name": "ipython",
    "version": 3
   },
   "file_extension": ".py",
   "mimetype": "text/x-python",
   "name": "python",
   "nbconvert_exporter": "python",
   "pygments_lexer": "ipython3",
   "version": "3.9.7"
  }
 },
 "nbformat": 4,
 "nbformat_minor": 5
}
