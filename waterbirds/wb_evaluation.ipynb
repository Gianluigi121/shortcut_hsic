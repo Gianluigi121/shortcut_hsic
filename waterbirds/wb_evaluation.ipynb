{
 "cells": [
  {
   "cell_type": "code",
   "execution_count": 1,
   "id": "376e4c26",
   "metadata": {},
   "outputs": [],
   "source": [
    "import os \n",
    "import matplotlib.pyplot as plt\n",
    "import pandas as pd\n",
    "import numpy as np\n",
    "from sklearn.metrics import roc_auc_score, log_loss \n",
    "import pickle"
   ]
  },
  {
   "cell_type": "code",
   "execution_count": 2,
   "id": "02aaefe8",
   "metadata": {},
   "outputs": [],
   "source": [
    "base_dir_mit = '/data/ddmg/scate/multiple_shortcut/waterbirds'\n",
    "base_dir_gl = '/nfs/turbo/coe-soto/mmakar/multiple_shortcut/waterbirds'\n",
    "if os.path.exists(base_dir_mit):\n",
    "    base_dir = base_dir_mit\n",
    "elif os.path.exists(base_dir_gl):\n",
    "    base_dir = base_dir_gl \n",
    "pixel = 128\n",
    "batch_size = 64"
   ]
  },
  {
   "cell_type": "code",
   "execution_count": 3,
   "id": "a1cd4b00",
   "metadata": {},
   "outputs": [],
   "source": [
    "def get_per_dist_metrics(df, model_name):\n",
    "    model_eval = {'hash': df.model.iloc[0]}\n",
    "    if 'unweighted' in model_name:\n",
    "        model_eval['validation_new_auc'] = roc_auc_score(\n",
    "            df.y0, df.pred0)\n",
    "        model_eval['validation_pred_log_loss'] = log_loss(\n",
    "            df.y0, df.pred0)\n",
    "    else: \n",
    "        model_eval['validation_new_auc'] = roc_auc_score(\n",
    "            df.y0, df.pred0, sample_weight=df.sample_weights)\n",
    "        model_eval['validation_pred_log_loss'] = log_loss(\n",
    "            df.y0, df.pred0, sample_weight=df.sample_weights)\n",
    "    return model_eval \n",
    "\n",
    "def update_performance(df, model_name): \n",
    "    old_eval = pickle.load(open(\n",
    "        f\"{base_dir}/tuning/{df['model'].iloc[0]}/performance.pkl\", \"rb\"))\n",
    "#     if 'validation_micro_auc' in old_eval.keys():\n",
    "#         return old_eval \n",
    "    model_eval = get_per_dist_metrics(df, model_name)\n",
    "    old_eval.update(model_eval)\n",
    "    pickle.dump(old_eval, open(f\"{base_dir}/tuning/{model_eval['hash']}/performance.pkl\", \n",
    "                    'wb'))\n",
    "    return model_eval\n",
    "    \n",
    "def get_all_dist_metrics_all_models(model_name, xv_mode, base_dir,  v_dim):\n",
    "    all_eval = []\n",
    "    curr_pred = pd.read_csv(\n",
    "        (f'{base_dir}/final_models/all_valid_pred_{model_name}_{xv_mode}'\n",
    "         f'_pix{pixel}_bs{batch_size}_vdim{v_dim}.csv'))\n",
    "    for model in curr_pred.model.unique().tolist():\n",
    "        model_pred = curr_pred[(curr_pred.model == model)]\n",
    "        model_eval = update_performance(model_pred, model_name)\n",
    "        all_eval.append(pd.DataFrame(model_eval, index=[0]))\n",
    "    all_eval = pd.concat(all_eval, ignore_index=True)\n",
    "    return all_eval\n",
    "            "
   ]
  },
  {
   "cell_type": "code",
   "execution_count": 9,
   "id": "8e270dd5",
   "metadata": {},
   "outputs": [],
   "source": [
    "model_name = 'weighted_hsic'\n",
    "xv_mode = 'two_step'\n",
    "v_dim = 12\n",
    "valid_eval = get_all_dist_metrics_all_models(model_name, xv_mode, base_dir=base_dir, v_dim=v_dim)"
   ]
  },
  {
   "cell_type": "code",
   "execution_count": 10,
   "id": "3c3bca03",
   "metadata": {},
   "outputs": [
    {
     "data": {
      "text/plain": [
       "(30, 3)"
      ]
     },
     "execution_count": 10,
     "metadata": {},
     "output_type": "execute_result"
    }
   ],
   "source": [
    "valid_eval.shape"
   ]
  },
  {
   "cell_type": "code",
   "execution_count": 28,
   "id": "8eb11d36",
   "metadata": {},
   "outputs": [],
   "source": [
    "import pandas as pd\n",
    "import numpy as np\n",
    "experiment_directory = (f'/nfs/turbo/coe-soto/mmakar/multiple_shortcut/waterbirds/experiment_data/'\n",
    "    f'rs0')\n",
    "data = pd.read_csv(\n",
    "    f'{experiment_directory}/test_0.5.txt')\n",
    "data = data['0'].str.split(\",\", expand=True)\n",
    "data.columns = ['bird_img', 'bird_seg', 'back_img', 'noise_img'] + \\\n",
    "    [f'y{i}' for i in range(data.shape[1]-4)]\n",
    "for i in range(13):\n",
    "    data[f'y{i}'] = data[f'y{i}'].astype(np.float32)"
   ]
  },
  {
   "cell_type": "code",
   "execution_count": 29,
   "id": "34ad2fae",
   "metadata": {},
   "outputs": [
    {
     "data": {
      "text/plain": [
       "0.0    0.50303\n",
       "1.0    0.49697\n",
       "Name: y2, dtype: float64"
      ]
     },
     "execution_count": 29,
     "metadata": {},
     "output_type": "execute_result"
    }
   ],
   "source": [
    "data.y2[(data.y0==1.0)].value_counts(normalize=True)"
   ]
  },
  {
   "cell_type": "code",
   "execution_count": 30,
   "id": "27bb5f4f",
   "metadata": {},
   "outputs": [
    {
     "data": {
      "text/plain": [
       "1.0    0.504076\n",
       "0.0    0.495924\n",
       "Name: y2, dtype: float64"
      ]
     },
     "execution_count": 30,
     "metadata": {},
     "output_type": "execute_result"
    }
   ],
   "source": [
    "data.y2[(data.y0==0.0)].value_counts(normalize=True)"
   ]
  },
  {
   "cell_type": "code",
   "execution_count": 27,
   "id": "300e5605",
   "metadata": {},
   "outputs": [
    {
     "data": {
      "text/plain": [
       "1.0"
      ]
     },
     "execution_count": 27,
     "metadata": {},
     "output_type": "execute_result"
    }
   ],
   "source": [
    "0.35 + 0.65"
   ]
  },
  {
   "cell_type": "code",
   "execution_count": null,
   "id": "9ad92ab3",
   "metadata": {},
   "outputs": [],
   "source": []
  }
 ],
 "metadata": {
  "kernelspec": {
   "display_name": "slabs",
   "language": "python",
   "name": "slabs"
  },
  "language_info": {
   "codemirror_mode": {
    "name": "ipython",
    "version": 3
   },
   "file_extension": ".py",
   "mimetype": "text/x-python",
   "name": "python",
   "nbconvert_exporter": "python",
   "pygments_lexer": "ipython3",
   "version": "3.8.5"
  }
 },
 "nbformat": 4,
 "nbformat_minor": 5
}
