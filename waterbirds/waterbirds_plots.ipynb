{
 "cells": [
  {
   "cell_type": "code",
   "execution_count": 1,
   "metadata": {},
   "outputs": [],
   "source": [
    "import matplotlib.pyplot as plt\n",
    "import pandas as pd\n",
    "import numpy as np\n",
    "\n",
    "from sklearn.metrics import roc_auc_score, log_loss"
   ]
  },
  {
   "cell_type": "code",
   "execution_count": 106,
   "metadata": {},
   "outputs": [],
   "source": [
    "base_dir = '/data/ddmg/scate/multiple_shortcut/waterbirds'\n",
    "pixel = 128 \n",
    "batch_size = 64 \n",
    "py1y0 = 0.9\n",
    "seed_list = [0]"
   ]
  },
  {
   "cell_type": "code",
   "execution_count": 107,
   "metadata": {},
   "outputs": [],
   "source": [
    "def get_per_dist_metrics(df):\n",
    "    all_results = []\n",
    "    for dist in [0.1, 0.5, 0.9]:\n",
    "        curr_df = df[(df.dist==dist)]\n",
    "        curr_eval = {'dist': dist}\n",
    "        curr_eval['auc'] = roc_auc_score(curr_df.y0, curr_df.predictions)\n",
    "        curr_eval['acc'] = np.mean(1.0 * (curr_df.y0 == curr_df.pred_class))\n",
    "        curr_eval['log_loss'] = log_loss(curr_df.y0, curr_df.predictions)\n",
    "        \n",
    "        all_results.append(curr_eval)\n",
    "    return pd.DataFrame(all_results)\n",
    "    \n",
    "\n",
    "def get_all_dist_metrics(random_seeds, model_name, xv_mode, v_dim):\n",
    "    all_eval = []\n",
    "    for random_seed in random_seeds: \n",
    "        curr_pred = pd.read_csv(\n",
    "            (f'{base_dir}/final_models/opt_pred_rs{random_seed}_{model_name}_{xv_mode}'\n",
    "             f'_pix{pixel}_bs{batch_size}_vdim{v_dim}.csv')) \n",
    "        all_eval.append(get_per_dist_metrics(curr_pred))\n",
    "        \n",
    "    all_eval = pd.concat(all_eval, ignore_index=True)\n",
    "    all_eval = all_eval.groupby('dist').agg(['mean', 'std']).reset_index()\n",
    "    all_eval.columns = ['_'.join(col).strip() for col in all_eval.columns.values]\n",
    "    all_eval.rename(columns={'dist_': 'dist'}, inplace=True)\n",
    "    return all_eval\n",
    "        \n",
    "        \n"
   ]
  },
  {
   "cell_type": "code",
   "execution_count": 108,
   "metadata": {},
   "outputs": [],
   "source": [
    "model_name = 'unweighted_baseline'\n",
    "xv_mode = 'classic'\n",
    "v_dim = 0\n",
    "uw_eval = get_all_dist_metrics(seed_list, model_name, xv_mode, v_dim)"
   ]
  },
  {
   "cell_type": "code",
   "execution_count": 109,
   "metadata": {},
   "outputs": [],
   "source": [
    "model_name = 'weighted_baseline'\n",
    "xv_mode = 'classic'\n",
    "v_dim = 0 \n",
    "w0_eval = get_all_dist_metrics(seed_list, model_name, xv_mode, v_dim)\n"
   ]
  },
  {
   "cell_type": "code",
   "execution_count": 110,
   "metadata": {},
   "outputs": [],
   "source": [
    "model_name = 'weighted_baseline'\n",
    "xv_mode = 'classic'\n",
    "v_dim = 10 \n",
    "w10_eval = get_all_dist_metrics(seed_list, model_name, xv_mode, v_dim)\n"
   ]
  },
  {
   "cell_type": "code",
   "execution_count": 111,
   "metadata": {},
   "outputs": [],
   "source": [
    "model_name = 'weighted_hsic'\n",
    "xv_mode = 'two_step'\n",
    "v_dim = 0\n",
    "wh0_eval = get_all_dist_metrics(seed_list, model_name, xv_mode, v_dim)"
   ]
  },
  {
   "cell_type": "code",
   "execution_count": 112,
   "metadata": {},
   "outputs": [],
   "source": [
    "model_name = 'weighted_hsic'\n",
    "xv_mode = 'two_step'\n",
    "v_dim = 10\n",
    "wh10_eval = get_all_dist_metrics(seed_list, model_name, xv_mode, v_dim)"
   ]
  },
  {
   "cell_type": "code",
   "execution_count": 113,
   "metadata": {},
   "outputs": [],
   "source": [
    "eval_perf = {\n",
    "    'uw_dnn': {'perf': uw_eval, 'label': \"DNN\", 'color':'black'  },  \n",
    "    'w0_dnn': {'perf': w0_eval, 'label': \"w0-DNN\", 'color':'#ABABAB'}, \n",
    "    'w10_dnn': {'perf': w10_eval, 'label': \"w10-DNN\", 'color':'green'}, \n",
    "    'w0_hsic': {'perf': wh0_eval, 'label': \"Ours0\", 'color':'#C85200'}, \n",
    "    'w10_hsic': {'perf': wh10_eval, 'label': \"Ours10\", 'color':'purple'}, \n",
    "}"
   ]
  },
  {
   "cell_type": "code",
   "execution_count": 114,
   "metadata": {},
   "outputs": [
    {
     "data": {
      "text/plain": [
       "<matplotlib.legend.Legend at 0x7fe1c082b7f0>"
      ]
     },
     "execution_count": 114,
     "metadata": {},
     "output_type": "execute_result"
    },
    {
     "data": {
      "image/png": "[encoded data removed]",
      "text/plain": [
       "<Figure size 432x288 with 1 Axes>"
      ]
     },
     "metadata": {
      "needs_background": "light"
     },
     "output_type": "display_data"
    }
   ],
   "source": [
    "metric = 'auc'\n",
    "stat = 'mean'\n",
    "plt.errorbar(uw_eval.dist, uw_eval[f'{metric}_{stat}'],\n",
    "             yerr= uw_eval[f'{metric}_std'], label='DNN', \n",
    "             capsize= 5, color='black')\n",
    "plt.errorbar(w0_eval.dist, w0_eval[f'{metric}_{stat}'], \n",
    "             yerr= w0_eval[f'{metric}_std'], label='w0-DNN', \n",
    "             capsize= 5, color = '#ABABAB')\n",
    "plt.errorbar(w10_eval.dist, w10_eval[f'{metric}_{stat}'], \n",
    "             yerr= w10_eval[f'{metric}_std'], label='w10-DNN', \n",
    "             capsize= 5, color = 'green')\n",
    "plt.errorbar(wh0_eval.dist, wh0_eval[f'{metric}_{stat}'], \n",
    "             yerr= wh0_eval[f'{metric}_std'], label='ours0', \n",
    "             capsize= 5, color='red')\n",
    "plt.errorbar(wh10_eval.dist, wh10_eval[f'{metric}_{stat}'], \n",
    "             yerr= wh10_eval[f'{metric}_std'], label='ours10', \n",
    "             capsize= 5, color='purple')\n",
    "plt.legend()"
   ]
  },
  {
   "cell_type": "code",
   "execution_count": 115,
   "metadata": {},
   "outputs": [
    {
     "data": {
      "text/plain": [
       "<matplotlib.legend.Legend at 0x7fe1c07cee80>"
      ]
     },
     "execution_count": 115,
     "metadata": {},
     "output_type": "execute_result"
    },
    {
     "data": {
      "image/png": "[encoded data removed]",
      "text/plain": [
       "<Figure size 432x288 with 1 Axes>"
      ]
     },
     "metadata": {
      "needs_background": "light"
     },
     "output_type": "display_data"
    }
   ],
   "source": [
    "metric = 'log_loss'\n",
    "\n",
    "stat = 'mean'\n",
    "plt.errorbar(uw_eval.dist, uw_eval[f'{metric}_{stat}'],\n",
    "             yerr= uw_eval[f'{metric}_std'], label='DNN', \n",
    "             capsize= 5, color='black')\n",
    "plt.errorbar(w0_eval.dist, w0_eval[f'{metric}_{stat}'], \n",
    "             yerr= w0_eval[f'{metric}_std'], label='w0-DNN', \n",
    "             capsize= 5, color = '#ABABAB')\n",
    "plt.errorbar(w10_eval.dist, w10_eval[f'{metric}_{stat}'], \n",
    "             yerr= w10_eval[f'{metric}_std'], label='w10-DNN', \n",
    "             capsize= 5, color = 'green')\n",
    "plt.errorbar(wh0_eval.dist, wh0_eval[f'{metric}_{stat}'], \n",
    "             yerr= wh0_eval[f'{metric}_std'], label='ours0', \n",
    "             capsize= 5, color='red')\n",
    "plt.errorbar(wh10_eval.dist, wh10_eval[f'{metric}_{stat}'], \n",
    "             yerr= wh10_eval[f'{metric}_std'], label='ours10', \n",
    "             capsize= 5, color='purple')\n",
    "plt.legend()"
   ]
  },
  {
   "cell_type": "code",
   "execution_count": 116,
   "metadata": {},
   "outputs": [
    {
     "data": {
      "text/plain": [
       "<matplotlib.legend.Legend at 0x7fe1c06a3a90>"
      ]
     },
     "execution_count": 116,
     "metadata": {},
     "output_type": "execute_result"
    },
    {
     "data": {
      "image/png": "[encoded data removed]",
      "text/plain": [
       "<Figure size 432x288 with 1 Axes>"
      ]
     },
     "metadata": {
      "needs_background": "light"
     },
     "output_type": "display_data"
    }
   ],
   "source": [
    "metric = 'acc'\n",
    "\n",
    "stat = 'mean'\n",
    "plt.errorbar(uw_eval.dist, uw_eval[f'{metric}_{stat}'],\n",
    "             yerr= uw_eval[f'{metric}_std'], label='DNN', \n",
    "             capsize= 5, color='black')\n",
    "plt.errorbar(w0_eval.dist, w0_eval[f'{metric}_{stat}'], \n",
    "             yerr= w0_eval[f'{metric}_std'], label='w0-DNN', \n",
    "             capsize= 5, color = '#ABABAB')\n",
    "plt.errorbar(w10_eval.dist, w10_eval[f'{metric}_{stat}'], \n",
    "             yerr= w10_eval[f'{metric}_std'], label='w10-DNN', \n",
    "             capsize= 5, color = 'green')\n",
    "plt.errorbar(wh0_eval.dist, wh0_eval[f'{metric}_{stat}'], \n",
    "             yerr= wh0_eval[f'{metric}_std'], label='ours0', \n",
    "             capsize= 5, color='red')\n",
    "plt.errorbar(wh10_eval.dist, wh10_eval[f'{metric}_{stat}'], \n",
    "             yerr= wh10_eval[f'{metric}_std'], label='ours10', \n",
    "             capsize= 5, color='purple')\n",
    "plt.legend()"
   ]
  },
  {
   "cell_type": "code",
   "execution_count": 117,
   "metadata": {},
   "outputs": [
    {
     "name": "stdout",
     "output_type": "stream",
     "text": [
      "full auroc\n",
      "0.6694992296577001 0.6871836094125303\n",
      "weighted auroc\n",
      "0.7307315682376883 0.760615670934325\n",
      "small group auroc\n",
      "0.7980769230769231 0.7403846153846153\n"
     ]
    }
   ],
   "source": [
    "random_seed = 0\n",
    "model_name = 'weighted_hsic'\n",
    "xv_mode = 'two_step'\n",
    "\n",
    "w0_pred = pd.read_csv(\n",
    "    (f'{base_dir}/final_models/opt_pred_rs{random_seed}_{model_name}_{xv_mode}'\n",
    "     f'_pix{pixel}_bs{batch_size}_vdim0.csv')) \n",
    "\n",
    "w10_pred = pd.read_csv(\n",
    "    (f'{base_dir}/final_models/opt_pred_rs{random_seed}_{model_name}_{xv_mode}'\n",
    "     f'_pix{pixel}_bs{batch_size}_vdim10.csv')) \n",
    "w0_pred = w0_pred[(w0_pred.dist==0.1)]\n",
    "w10_pred = w10_pred[(w10_pred.dist==0.1)]\n",
    "print(\"full auroc\")\n",
    "print(\n",
    "    roc_auc_score(w0_pred.y0, w0_pred.predictions), \n",
    "    roc_auc_score(w10_pred.y0, w10_pred.predictions))\n",
    "\n",
    "\n",
    "w0_ts_weights = w0_pred.groupby([f'y{i}' for i in range(13)]).agg('size').reset_index()\n",
    "w0_ts_weights.columns = [f'y{i}' for i in range(13)] + ['gsize']\n",
    "w0_ts_weights['ts_weights']  = 1.0 / w0_ts_weights['gsize']\n",
    "w0_pred = w0_pred.merge(w0_ts_weights, on = [f'y{i}' for i in range(13)])\n",
    "\n",
    "w10_ts_weights = w10_pred.groupby([f'y{i}' for i in range(13)]).agg('size').reset_index()\n",
    "w10_ts_weights.columns = [f'y{i}' for i in range(13)] + ['gsize']\n",
    "w10_ts_weights['ts_weights']  = 1.0 / w10_ts_weights['gsize']\n",
    "w10_pred = w10_pred.merge(w10_ts_weights, on = [f'y{i}' for i in range(13)])\n",
    "print(\"weighted auroc\")\n",
    "print(roc_auc_score(w0_pred.y0, w0_pred.predictions, \n",
    "              sample_weight=w0_pred.ts_weights),roc_auc_score(w10_pred.y0, \n",
    "                w10_pred.predictions, sample_weight=w10_pred.ts_weights))\n",
    "\n",
    "print(\"small group auroc\")\n",
    "print(roc_auc_score(\n",
    "    w0_pred.y0[(w0_pred.gsize <=1)], w0_pred.predictions[(w0_pred.gsize <=1)]), roc_auc_score(\n",
    "    w10_pred.y0[(w10_pred.gsize <=1)], w10_pred.predictions[(w10_pred.gsize <=1)]))"
   ]
  },
  {
   "cell_type": "code",
   "execution_count": null,
   "metadata": {},
   "outputs": [],
   "source": []
  },
  {
   "cell_type": "code",
   "execution_count": 264,
   "metadata": {},
   "outputs": [],
   "source": [
    "\n"
   ]
  },
  {
   "cell_type": "code",
   "execution_count": 265,
   "metadata": {},
   "outputs": [],
   "source": []
  },
  {
   "cell_type": "code",
   "execution_count": 266,
   "metadata": {},
   "outputs": [
    {
     "data": {
      "text/plain": [
       "(0.8252233339610604, 0.8252233339610604)"
      ]
     },
     "execution_count": 266,
     "metadata": {},
     "output_type": "execute_result"
    }
   ],
   "source": []
  },
  {
   "cell_type": "code",
   "execution_count": 257,
   "metadata": {},
   "outputs": [
    {
     "data": {
      "text/plain": [
       "(0.78125, 0.703125)"
      ]
     },
     "execution_count": 257,
     "metadata": {},
     "output_type": "execute_result"
    }
   ],
   "source": [
    "roc_auc_score(\n",
    "    w0_pred.y0[(w0_pred.gsize <=1)], w0_pred.predictions[(w0_pred.gsize <=1)]), roc_auc_score(\n",
    "    w10_pred.y0[(w10_pred.gsize <=1)], w10_pred.predictions[(w10_pred.gsize <=1)])"
   ]
  },
  {
   "cell_type": "code",
   "execution_count": 258,
   "metadata": {},
   "outputs": [
    {
     "name": "stdout",
     "output_type": "stream",
     "text": [
      "predictions    0.499356\n",
      "dtype: float64 predictions    0.284936\n",
      "dtype: float64\n"
     ]
    }
   ],
   "source": [
    "print(\n",
    "    w0_pred[['predictions']][(w0_pred.gsize <=1) & (w0_pred.y0 ==1)].mean(), \n",
    "    w0_pred[['predictions']][(w0_pred.gsize <=1) & (w0_pred.y0 ==1)].var()\n",
    ")"
   ]
  },
  {
   "cell_type": "code",
   "execution_count": 259,
   "metadata": {},
   "outputs": [
    {
     "name": "stdout",
     "output_type": "stream",
     "text": [
      "predictions    0.420546\n",
      "dtype: float64 predictions    0.216019\n",
      "dtype: float64\n"
     ]
    }
   ],
   "source": [
    "print(\n",
    "    w10_pred[['predictions']][(w10_pred.gsize <=1) & (w10_pred.y0 ==1)].mean(), \n",
    "    w10_pred[['predictions']][(w10_pred.gsize <=1) & (w10_pred.y0 ==1)].var()\n",
    ")"
   ]
  },
  {
   "cell_type": "code",
   "execution_count": 260,
   "metadata": {},
   "outputs": [
    {
     "name": "stdout",
     "output_type": "stream",
     "text": [
      "predictions    0.00054\n",
      "dtype: float64 predictions    0.000002\n",
      "dtype: float64\n"
     ]
    }
   ],
   "source": [
    "print(\n",
    "    w0_pred[['predictions']][(w0_pred.gsize <=1) & (w0_pred.y0 ==0)].mean(), \n",
    "    w0_pred[['predictions']][(w0_pred.gsize <=1) & (w0_pred.y0 ==0)].var()\n",
    ")"
   ]
  },
  {
   "cell_type": "code",
   "execution_count": 261,
   "metadata": {},
   "outputs": [
    {
     "name": "stdout",
     "output_type": "stream",
     "text": [
      "predictions    0.000294\n",
      "dtype: float64 predictions    2.873716e-07\n",
      "dtype: float64\n"
     ]
    }
   ],
   "source": [
    "print(\n",
    "    w10_pred[['predictions']][(w10_pred.gsize <=1) & (w10_pred.y0 ==0)].mean(), \n",
    "    w10_pred[['predictions']][(w10_pred.gsize <=1) & (w10_pred.y0 ==0)].var()\n",
    ")"
   ]
  },
  {
   "cell_type": "code",
   "execution_count": null,
   "metadata": {},
   "outputs": [],
   "source": []
  },
  {
   "cell_type": "code",
   "execution_count": null,
   "metadata": {},
   "outputs": [],
   "source": []
  }
 ],
 "metadata": {
  "kernelspec": {
   "display_name": "Python 3",
   "language": "python",
   "name": "python3"
  },
  "language_info": {
   "codemirror_mode": {
    "name": "ipython",
    "version": 3
   },
   "file_extension": ".py",
   "mimetype": "text/x-python",
   "name": "python",
   "nbconvert_exporter": "python",
   "pygments_lexer": "ipython3",
   "version": "3.8.13"
  }
 },
 "nbformat": 4,
 "nbformat_minor": 4
}
