{
 "cells": [
  {
   "cell_type": "code",
   "execution_count": 1,
   "id": "376e4c26",
   "metadata": {},
   "outputs": [],
   "source": [
    "import os \n",
    "import matplotlib.pyplot as plt\n",
    "import pandas as pd\n",
    "import numpy as np\n",
    "from sklearn.metrics import roc_auc_score, log_loss \n",
    "import pickle\n",
    "pd.options.mode.chained_assignment = None  # default='warn'"
   ]
  },
  {
   "cell_type": "code",
   "execution_count": 2,
   "id": "02aaefe8",
   "metadata": {},
   "outputs": [],
   "source": [
    "base_dir_mit = '/data/ddmg/scate/multiple_shortcut/dr'\n",
    "base_dir_gl = '/nfs/turbo/coe-soto/mmakar/multiple_shortcut/dr'\n",
    "if os.path.exists(base_dir_mit):\n",
    "    base_dir = base_dir_mit\n",
    "elif os.path.exists(base_dir_gl):\n",
    "    base_dir = base_dir_gl \n",
    "pixel = 299\n",
    "batch_size = 64"
   ]
  },
  {
   "cell_type": "code",
   "execution_count": 3,
   "id": "14cd3e02",
   "metadata": {},
   "outputs": [],
   "source": [
    "def get_weighted_micro_auc(df):\n",
    "    df = pd.concat([df, pd.get_dummies(df.y0, prefix='y0')], axis=1)\n",
    "    final_df = []\n",
    "    for y_val in df.y0.unique().tolist():\n",
    "        curr_df = df[[f'y0_{y_val}',  f'predictions{int(y_val)}', 'sample_weights']]\n",
    "        curr_df.rename(columns={f'y0_{y_val}': 'y_true', \n",
    "            f'predictions{int(y_val)}': 'y_pred'}, inplace=True)\n",
    "        final_df.append(curr_df)\n",
    "    \n",
    "    final_df = pd.concat(final_df, ignore_index=True, axis=0)\n",
    "    return roc_auc_score(final_df.y_true, final_df.y_pred, sample_weight=final_df.sample_weights)"
   ]
  },
  {
   "cell_type": "code",
   "execution_count": 4,
   "id": "4bad8520",
   "metadata": {},
   "outputs": [],
   "source": [
    "def single_class_auc(y_cat_true, y_cat_pred, single_class, sample_weights):\n",
    "    y_true = (y_cat_true == single_class) * 1\n",
    "    y_pred = y_cat_pred[[f'predictions{single_class}']]\n",
    "    if sample_weights is None:\n",
    "        return roc_auc_score(y_true, y_pred)\n",
    "    return roc_auc_score(y_true, y_pred, sample_weight=sample_weights)\n",
    "\n",
    "def get_per_dist_metrics(df, model_name):\n",
    "    model_eval = {'hash': df.model.iloc[0]}\n",
    "    if 'unweighted' in model_name:\n",
    "        model_eval['validation_macro_auc'] = roc_auc_score(df.y0, df[\n",
    "            [f'predictions{i}' for i in range(5)]], \n",
    "            average='macro', multi_class='ovr')\n",
    "        model_eval['validation_micro_auc'] = roc_auc_score(df.y0, df[\n",
    "            [f'predictions{i}' for i in range(5)]], \n",
    "            average='macro', multi_class='ovo')\n",
    "        model_eval['validation_pred_log_loss'] = log_loss(df.y0, df[\n",
    "            [f'predictions{i}' for i in range(5)]])    \n",
    "    else: \n",
    "        # --- getting macro auc\n",
    "        all_aucs = []\n",
    "        for single_class in range(5):\n",
    "            curr_class_auc = single_class_auc(df.y0, df[\n",
    "                [f'predictions{i}' for i in range(5)]], single_class,\n",
    "                                              sample_weights=df.sample_weights)\n",
    "            all_aucs.append(curr_class_auc)\n",
    "            \n",
    "        model_eval[f'validation_macro_auc'] = np.mean(all_aucs)\n",
    "        # --- getting micro auc \n",
    "        model_eval[f'validation_micro_auc'] = get_weighted_micro_auc(df)\n",
    "        \n",
    "        #--- getting log loss \n",
    "        model_eval['validation_pred_log_loss'] = log_loss(df.y0, df[\n",
    "            [f'predictions{i}' for i in range(5)]], sample_weight=df.sample_weights)\n",
    "        \n",
    "    return model_eval \n",
    "\n",
    "    \n",
    "def update_performance(df, model_name): \n",
    "    old_eval = pickle.load(open(\n",
    "        f\"{base_dir}/tuning/{df['model'].iloc[0]}/performance.pkl\", \"rb\"))\n",
    "#     if 'validation_micro_auc' in old_eval.keys():\n",
    "#         return old_eval \n",
    "    model_eval = get_per_dist_metrics(df, model_name)\n",
    "    old_eval.update(model_eval)\n",
    "    pickle.dump(old_eval, open(f\"{base_dir}/tuning/{model_eval['hash']}/performance.pkl\", \n",
    "                    'wb'))\n",
    "    return model_eval\n",
    "    \n",
    "\n",
    "# def get_all_dist_metrics(random_seeds, model_name, xv_mode, py1y0=0.9):\n",
    "#     all_eval = []\n",
    "#     for random_seed in random_seeds: \n",
    "#         curr_pred = pd.read_csv(\n",
    "#             (f'{base_dir}/final_models/opt_pred_rs{random_seed}_{model_name}_{xv_mode}'\n",
    "#              f'_pix{pixel}_bs{batch_size}_py1y0{py1y0}_epochs2.csv')) \n",
    "#         all_eval.append(get_per_dist_metrics(curr_pred))\n",
    "        \n",
    "#     all_eval = pd.concat(all_eval, ignore_index=True)\n",
    "#     if len(random_seeds) > 1:\n",
    "#         all_eval = all_eval.groupby('dist').agg(['mean', 'std']).reset_index()\n",
    "#         all_eval.columns = ['_'.join(col).strip() for col in all_eval.columns.values]\n",
    "#         all_eval.rename(columns={'dist_': 'dist'}, inplace=True)\n",
    "#     return all_eval\n",
    "\n",
    "\n",
    "def get_all_dist_metrics_all_models(model_name, xv_mode, base_dir,  py1y0=0.9):\n",
    "    all_eval = []\n",
    "    curr_pred = pd.read_csv(\n",
    "        (f'{base_dir}/final_models/all_valid_pred_{model_name}_{xv_mode}'\n",
    "         f'_pix{pixel}_bs{batch_size}_py1y0{py1y0}_epochs10.csv')) \n",
    "    for model in curr_pred.model.unique().tolist():\n",
    "        model_pred = curr_pred[(curr_pred.model == model)]\n",
    "        model_eval = update_performance(model_pred, model_name)\n",
    "        all_eval.append(pd.DataFrame(model_eval, index=[0]))\n",
    "    all_eval = pd.concat(all_eval, ignore_index=True)\n",
    "    return all_eval\n",
    "            "
   ]
  },
  {
   "cell_type": "code",
   "execution_count": 5,
   "id": "8e270dd5",
   "metadata": {
    "scrolled": false
   },
   "outputs": [],
   "source": [
    "model_name = 'weighted_hsic'\n",
    "xv_mode = 'two_step'\n",
    "valid_eval = get_all_dist_metrics_all_models(model_name, xv_mode, base_dir=base_dir)"
   ]
  },
  {
   "cell_type": "code",
   "execution_count": 6,
   "id": "7f614799",
   "metadata": {},
   "outputs": [
    {
     "data": {
      "text/plain": [
       "(12, 4)"
      ]
     },
     "execution_count": 6,
     "metadata": {},
     "output_type": "execute_result"
    }
   ],
   "source": [
    "valid_eval.shape"
   ]
  },
  {
   "cell_type": "code",
   "execution_count": 28,
   "id": "a52a33cc",
   "metadata": {},
   "outputs": [],
   "source": [
    "dist = 0.1\n",
    "experiment_directory = (\n",
    "    f\"{base_dir}/experiment_data/rs0\")\n",
    "\n",
    "test_data = pd.read_csv(\n",
    "    f'{experiment_directory}/test_{dist}.txt'\n",
    ")\n",
    "test_data = test_data['0'].str.split(\",\", expand=True)\n",
    "D = test_data.shape[1] - 2\n",
    "test_data.columns = ['img_name', 'noise_img'] + [f'y{i}' for i in range(D)]\n",
    "test_data['group'] = test_data.y0.map(str) + \"-\" + test_data.y1.map(str)\n",
    "test_data = test_data.groupby('group').sample(frac=0.2, random_state=0).reset_index(drop=True)\n",
    "\n",
    "txt_data = test_data.img_name + ',' + test_data.noise_img\n",
    "\n",
    "for i in range(D):\n",
    "    txt_data = txt_data + ',' + test_data[f'y{i}'].astype(str)\n",
    "txt_data = txt_data.apply(lambda x: [x])\n",
    "txt_data = txt_data.values.tolist()\n",
    "txt_data = [\n",
    "    tuple(txt_data[i][0].split(',')) for i in range(len(txt_data))\n",
    "]"
   ]
  },
  {
   "cell_type": "code",
   "execution_count": 29,
   "id": "a6f52607",
   "metadata": {},
   "outputs": [
    {
     "data": {
      "text/plain": [
       "[('/nfs/turbo/coe-soto/dr/images_processed/31622_left.jpg',\n",
       "  '/nfs/turbo/coe-soto/mmakar/multiple_shortcut/dr/experiment_data/rs0/noise_imgs/test_0.1/no_noise.png',\n",
       "  '0.0',\n",
       "  '0.0'),\n",
       " ('/nfs/turbo/coe-soto/dr/images_processed/1197_right.jpg',\n",
       "  '/nfs/turbo/coe-soto/mmakar/multiple_shortcut/dr/experiment_data/rs0/noise_imgs/test_0.1/no_noise.png',\n",
       "  '0.0',\n",
       "  '0.0'),\n",
       " ('/nfs/turbo/coe-soto/dr/images_processed/29176_left.jpg',\n",
       "  '/nfs/turbo/coe-soto/mmakar/multiple_shortcut/dr/experiment_data/rs0/noise_imgs/test_0.1/no_noise.png',\n",
       "  '0.0',\n",
       "  '0.0')]"
      ]
     },
     "execution_count": 29,
     "metadata": {},
     "output_type": "execute_result"
    }
   ],
   "source": [
    "txt_data[:3]"
   ]
  },
  {
   "cell_type": "code",
   "execution_count": 30,
   "id": "91af1068",
   "metadata": {},
   "outputs": [],
   "source": [
    "test_data = pd.read_csv(\n",
    "    f'{experiment_directory}/test_{dist}.txt'\n",
    ").values.tolist()\n",
    "\n",
    "test_data = [\n",
    "    tuple(test_data[i][0].split(',')) for i in range(len(test_data))\n",
    "]\n"
   ]
  },
  {
   "cell_type": "code",
   "execution_count": 31,
   "id": "3d95a1e5",
   "metadata": {},
   "outputs": [
    {
     "data": {
      "text/plain": [
       "[('/nfs/turbo/coe-soto/dr/images_processed/24297_right.jpg',\n",
       "  '/nfs/turbo/coe-soto/mmakar/multiple_shortcut/dr/experiment_data/rs0/noise_imgs/test_0.1/no_noise.png',\n",
       "  '0.0',\n",
       "  '0.0'),\n",
       " ('/nfs/turbo/coe-soto/dr/images_processed/323_left.jpg',\n",
       "  '/nfs/turbo/coe-soto/mmakar/multiple_shortcut/dr/experiment_data/rs0/noise_imgs/test_0.1/no_noise.png',\n",
       "  '0.0',\n",
       "  '0.0'),\n",
       " ('/nfs/turbo/coe-soto/dr/images_processed/32149_right.jpg',\n",
       "  '/nfs/turbo/coe-soto/mmakar/multiple_shortcut/dr/experiment_data/rs0/noise_imgs/test_0.1/32149_right.png',\n",
       "  '4.0',\n",
       "  '1.0')]"
      ]
     },
     "execution_count": 31,
     "metadata": {},
     "output_type": "execute_result"
    }
   ],
   "source": [
    "test_data[:3]"
   ]
  },
  {
   "cell_type": "code",
   "execution_count": 10,
   "id": "ac3cf21e",
   "metadata": {},
   "outputs": [
    {
     "data": {
      "text/plain": [
       "0.0-0.0    0.635775\n",
       "2.0-1.0    0.131896\n",
       "0.0-1.0    0.073244\n",
       "1.0-1.0    0.060218\n",
       "3.0-1.0    0.025340\n",
       "2.0-0.0    0.020713\n",
       "4.0-1.0    0.020642\n",
       "1.0-0.0    0.012670\n",
       "3.0-0.0    0.009823\n",
       "4.0-0.0    0.009680\n",
       "Name: group, dtype: float64"
      ]
     },
     "execution_count": 10,
     "metadata": {},
     "output_type": "execute_result"
    }
   ],
   "source": [
    "test_data.group.value_counts(normalize=True)"
   ]
  },
  {
   "cell_type": "code",
   "execution_count": 21,
   "id": "5c50d47f",
   "metadata": {},
   "outputs": [],
   "source": [
    "test_data_sub = test_data.groupby('group').sample(frac=0.2, random_state=0).reset_index(drop=True)"
   ]
  },
  {
   "cell_type": "code",
   "execution_count": 22,
   "id": "d007dc86",
   "metadata": {},
   "outputs": [
    {
     "data": {
      "text/plain": [
       "0.0-0.0    0.635587\n",
       "2.0-1.0    0.132028\n",
       "0.0-1.0    0.073310\n",
       "1.0-1.0    0.060142\n",
       "3.0-1.0    0.025267\n",
       "2.0-0.0    0.020641\n",
       "4.0-1.0    0.020641\n",
       "1.0-0.0    0.012811\n",
       "3.0-0.0    0.009964\n",
       "4.0-0.0    0.009609\n",
       "Name: group, dtype: float64"
      ]
     },
     "execution_count": 22,
     "metadata": {},
     "output_type": "execute_result"
    }
   ],
   "source": [
    "test_data_sub.group.value_counts(normalize=True)"
   ]
  },
  {
   "cell_type": "code",
   "execution_count": 23,
   "id": "bd1f7c7a",
   "metadata": {},
   "outputs": [
    {
     "data": {
      "text/html": [
       "<div>\n",
       "<style scoped>\n",
       "    .dataframe tbody tr th:only-of-type {\n",
       "        vertical-align: middle;\n",
       "    }\n",
       "\n",
       "    .dataframe tbody tr th {\n",
       "        vertical-align: top;\n",
       "    }\n",
       "\n",
       "    .dataframe thead th {\n",
       "        text-align: right;\n",
       "    }\n",
       "</style>\n",
       "<table border=\"1\" class=\"dataframe\">\n",
       "  <thead>\n",
       "    <tr style=\"text-align: right;\">\n",
       "      <th></th>\n",
       "      <th>img_name</th>\n",
       "      <th>noise_img</th>\n",
       "      <th>y0</th>\n",
       "      <th>y1</th>\n",
       "      <th>group</th>\n",
       "    </tr>\n",
       "  </thead>\n",
       "  <tbody>\n",
       "    <tr>\n",
       "      <th>0</th>\n",
       "      <td>/nfs/turbo/coe-soto/dr/images_processed/31622_...</td>\n",
       "      <td>/nfs/turbo/coe-soto/mmakar/multiple_shortcut/d...</td>\n",
       "      <td>0.0</td>\n",
       "      <td>0.0</td>\n",
       "      <td>0.0-0.0</td>\n",
       "    </tr>\n",
       "    <tr>\n",
       "      <th>1</th>\n",
       "      <td>/nfs/turbo/coe-soto/dr/images_processed/1197_r...</td>\n",
       "      <td>/nfs/turbo/coe-soto/mmakar/multiple_shortcut/d...</td>\n",
       "      <td>0.0</td>\n",
       "      <td>0.0</td>\n",
       "      <td>0.0-0.0</td>\n",
       "    </tr>\n",
       "    <tr>\n",
       "      <th>2</th>\n",
       "      <td>/nfs/turbo/coe-soto/dr/images_processed/29176_...</td>\n",
       "      <td>/nfs/turbo/coe-soto/mmakar/multiple_shortcut/d...</td>\n",
       "      <td>0.0</td>\n",
       "      <td>0.0</td>\n",
       "      <td>0.0-0.0</td>\n",
       "    </tr>\n",
       "    <tr>\n",
       "      <th>3</th>\n",
       "      <td>/nfs/turbo/coe-soto/dr/images_processed/449_le...</td>\n",
       "      <td>/nfs/turbo/coe-soto/mmakar/multiple_shortcut/d...</td>\n",
       "      <td>0.0</td>\n",
       "      <td>0.0</td>\n",
       "      <td>0.0-0.0</td>\n",
       "    </tr>\n",
       "    <tr>\n",
       "      <th>4</th>\n",
       "      <td>/nfs/turbo/coe-soto/dr/images_processed/3640_r...</td>\n",
       "      <td>/nfs/turbo/coe-soto/mmakar/multiple_shortcut/d...</td>\n",
       "      <td>0.0</td>\n",
       "      <td>0.0</td>\n",
       "      <td>0.0-0.0</td>\n",
       "    </tr>\n",
       "  </tbody>\n",
       "</table>\n",
       "</div>"
      ],
      "text/plain": [
       "                                            img_name  \\\n",
       "0  /nfs/turbo/coe-soto/dr/images_processed/31622_...   \n",
       "1  /nfs/turbo/coe-soto/dr/images_processed/1197_r...   \n",
       "2  /nfs/turbo/coe-soto/dr/images_processed/29176_...   \n",
       "3  /nfs/turbo/coe-soto/dr/images_processed/449_le...   \n",
       "4  /nfs/turbo/coe-soto/dr/images_processed/3640_r...   \n",
       "\n",
       "                                           noise_img   y0   y1    group  \n",
       "0  /nfs/turbo/coe-soto/mmakar/multiple_shortcut/d...  0.0  0.0  0.0-0.0  \n",
       "1  /nfs/turbo/coe-soto/mmakar/multiple_shortcut/d...  0.0  0.0  0.0-0.0  \n",
       "2  /nfs/turbo/coe-soto/mmakar/multiple_shortcut/d...  0.0  0.0  0.0-0.0  \n",
       "3  /nfs/turbo/coe-soto/mmakar/multiple_shortcut/d...  0.0  0.0  0.0-0.0  \n",
       "4  /nfs/turbo/coe-soto/mmakar/multiple_shortcut/d...  0.0  0.0  0.0-0.0  "
      ]
     },
     "execution_count": 23,
     "metadata": {},
     "output_type": "execute_result"
    }
   ],
   "source": [
    "test_data_sub.head()"
   ]
  },
  {
   "cell_type": "code",
   "execution_count": 4,
   "id": "9c889dff",
   "metadata": {},
   "outputs": [],
   "source": [
    "model_name = 'weighted_hsic'\n",
    "xv_mode = 'two_step'\n",
    "py1y0 = 0.9\n",
    "curr_pred = pd.read_csv(\n",
    "    (f'{base_dir}/final_models/all_valid_pred_{model_name}_{xv_mode}'\n",
    "     f'_pix{pixel}_bs{batch_size}_py1y0{py1y0}_epochs2.csv')) \n"
   ]
  },
  {
   "cell_type": "code",
   "execution_count": 48,
   "id": "dbe07142",
   "metadata": {},
   "outputs": [
    {
     "data": {
      "text/plain": [
       "Index(['y0', 'y1', 'predictions0', 'predictions1', 'predictions2',\n",
       "       'predictions3', 'predictions4', 'pred_class', 'sample_weights', 'dist',\n",
       "       'model', 'y0_0.0', 'y0_1.0', 'y0_2.0', 'y0_3.0', 'y0_4.0'],\n",
       "      dtype='object')"
      ]
     },
     "execution_count": 48,
     "metadata": {},
     "output_type": "execute_result"
    }
   ],
   "source": [
    "pd.concat([curr_pred, pd.get_dummies(curr_pred.y0, prefix='y0')], axis=1).columns"
   ]
  },
  {
   "cell_type": "code",
   "execution_count": 47,
   "id": "b1b44b7d",
   "metadata": {},
   "outputs": [
    {
     "data": {
      "text/plain": [
       "(1264400, 11)"
      ]
     },
     "execution_count": 47,
     "metadata": {},
     "output_type": "execute_result"
    }
   ],
   "source": [
    "curr_pred.shape"
   ]
  },
  {
   "cell_type": "code",
   "execution_count": 26,
   "id": "800f66b3",
   "metadata": {},
   "outputs": [
    {
     "name": "stderr",
     "output_type": "stream",
     "text": [
      "<ipython-input-25-827666b01581>:6: SettingWithCopyWarning: \n",
      "A value is trying to be set on a copy of a slice from a DataFrame.\n",
      "Try using .loc[row_indexer,col_indexer] = value instead\n",
      "\n",
      "See the caveats in the documentation: https://pandas.pydata.org/pandas-docs/stable/user_guide/indexing.html#returning-a-view-versus-a-copy\n",
      "  curr_df['y_true'] = label_df.iloc[:, int(y_val)]\n",
      "/home/mmakar/miniconda3/envs/slabs/lib/python3.8/site-packages/pandas/core/frame.py:5039: SettingWithCopyWarning: \n",
      "A value is trying to be set on a copy of a slice from a DataFrame\n",
      "\n",
      "See the caveats in the documentation: https://pandas.pydata.org/pandas-docs/stable/user_guide/indexing.html#returning-a-view-versus-a-copy\n",
      "  return super().rename(\n"
     ]
    }
   ],
   "source": [
    "curr_pred_stack = get_weighted_micro_auc(curr_pred)"
   ]
  },
  {
   "cell_type": "code",
   "execution_count": 27,
   "id": "c695534b",
   "metadata": {},
   "outputs": [
    {
     "data": {
      "text/html": [
       "<div>\n",
       "<style scoped>\n",
       "    .dataframe tbody tr th:only-of-type {\n",
       "        vertical-align: middle;\n",
       "    }\n",
       "\n",
       "    .dataframe tbody tr th {\n",
       "        vertical-align: top;\n",
       "    }\n",
       "\n",
       "    .dataframe thead th {\n",
       "        text-align: right;\n",
       "    }\n",
       "</style>\n",
       "<table border=\"1\" class=\"dataframe\">\n",
       "  <thead>\n",
       "    <tr style=\"text-align: right;\">\n",
       "      <th></th>\n",
       "      <th>y_pred</th>\n",
       "      <th>sample_weights</th>\n",
       "      <th>y_true</th>\n",
       "    </tr>\n",
       "  </thead>\n",
       "  <tbody>\n",
       "    <tr>\n",
       "      <th>0</th>\n",
       "      <td>0.921123</td>\n",
       "      <td>0.764149</td>\n",
       "      <td>1</td>\n",
       "    </tr>\n",
       "    <tr>\n",
       "      <th>1</th>\n",
       "      <td>0.948615</td>\n",
       "      <td>0.764149</td>\n",
       "      <td>1</td>\n",
       "    </tr>\n",
       "    <tr>\n",
       "      <th>2</th>\n",
       "      <td>0.935561</td>\n",
       "      <td>0.764149</td>\n",
       "      <td>1</td>\n",
       "    </tr>\n",
       "    <tr>\n",
       "      <th>3</th>\n",
       "      <td>0.944743</td>\n",
       "      <td>0.764149</td>\n",
       "      <td>1</td>\n",
       "    </tr>\n",
       "    <tr>\n",
       "      <th>4</th>\n",
       "      <td>0.940090</td>\n",
       "      <td>0.764149</td>\n",
       "      <td>1</td>\n",
       "    </tr>\n",
       "  </tbody>\n",
       "</table>\n",
       "</div>"
      ],
      "text/plain": [
       "     y_pred  sample_weights  y_true\n",
       "0  0.921123        0.764149       1\n",
       "1  0.948615        0.764149       1\n",
       "2  0.935561        0.764149       1\n",
       "3  0.944743        0.764149       1\n",
       "4  0.940090        0.764149       1"
      ]
     },
     "execution_count": 27,
     "metadata": {},
     "output_type": "execute_result"
    }
   ],
   "source": [
    "curr_pred_stack.head()"
   ]
  },
  {
   "cell_type": "code",
   "execution_count": 28,
   "id": "3fd0fb67",
   "metadata": {},
   "outputs": [
    {
     "data": {
      "text/plain": [
       "(1264400, 11)"
      ]
     },
     "execution_count": 28,
     "metadata": {},
     "output_type": "execute_result"
    }
   ],
   "source": [
    "curr_pred.shape"
   ]
  },
  {
   "cell_type": "code",
   "execution_count": 29,
   "id": "4cdadf7e",
   "metadata": {},
   "outputs": [
    {
     "data": {
      "text/plain": [
       "(6322000, 3)"
      ]
     },
     "execution_count": 29,
     "metadata": {},
     "output_type": "execute_result"
    }
   ],
   "source": [
    "curr_pred_stack.shape"
   ]
  },
  {
   "cell_type": "code",
   "execution_count": 30,
   "id": "aff13dba",
   "metadata": {},
   "outputs": [
    {
     "data": {
      "text/plain": [
       "6322000"
      ]
     },
     "execution_count": 30,
     "metadata": {},
     "output_type": "execute_result"
    }
   ],
   "source": [
    "5 * 1264400"
   ]
  },
  {
   "cell_type": "code",
   "execution_count": 13,
   "id": "b60fea9b",
   "metadata": {},
   "outputs": [],
   "source": [
    "import pandas as pd\n",
    "import numpy as np\n",
    "experiment_directory = (f'/nfs/turbo/coe-soto/mmakar/multiple_shortcut/dr/experiment_data/'\n",
    "    f'rs0')\n",
    "data = pd.read_csv(\n",
    "    f'{experiment_directory}/train.txt')\n",
    "data = data['0'].str.split(\",\", expand=True)\n",
    "data.columns = ['eye_img', 'noise_img', 'y0', 'y1']\n",
    "for i in [0, 1]:\n",
    "    data[f'y{i}'] = data[f'y{i}'].astype(np.float32)"
   ]
  },
  {
   "cell_type": "code",
   "execution_count": 14,
   "id": "719dc99f",
   "metadata": {},
   "outputs": [
    {
     "data": {
      "text/plain": [
       "1.0    0.89391\n",
       "0.0    0.10609\n",
       "Name: y1, dtype: float64"
      ]
     },
     "execution_count": 14,
     "metadata": {},
     "output_type": "execute_result"
    }
   ],
   "source": [
    "data.y1[(data.y0==0.0)].value_counts(normalize=True)"
   ]
  },
  {
   "cell_type": "code",
   "execution_count": 15,
   "id": "ba2ca8c0",
   "metadata": {},
   "outputs": [
    {
     "data": {
      "text/plain": [
       "0.0    0.828397\n",
       "1.0    0.171603\n",
       "Name: y1, dtype: float64"
      ]
     },
     "execution_count": 15,
     "metadata": {},
     "output_type": "execute_result"
    }
   ],
   "source": [
    "data.y1[(data.y0==1.0)].value_counts(normalize=True)"
   ]
  },
  {
   "cell_type": "code",
   "execution_count": 16,
   "id": "44b5cf17",
   "metadata": {},
   "outputs": [
    {
     "data": {
      "text/plain": [
       "0.0    0.85797\n",
       "1.0    0.14203\n",
       "Name: y1, dtype: float64"
      ]
     },
     "execution_count": 16,
     "metadata": {},
     "output_type": "execute_result"
    }
   ],
   "source": [
    "data.y1[(data.y0==2.0)].value_counts(normalize=True)"
   ]
  },
  {
   "cell_type": "code",
   "execution_count": null,
   "id": "882ed0c2",
   "metadata": {},
   "outputs": [],
   "source": []
  }
 ],
 "metadata": {
  "kernelspec": {
   "display_name": "slabs",
   "language": "python",
   "name": "slabs"
  },
  "language_info": {
   "codemirror_mode": {
    "name": "ipython",
    "version": 3
   },
   "file_extension": ".py",
   "mimetype": "text/x-python",
   "name": "python",
   "nbconvert_exporter": "python",
   "pygments_lexer": "ipython3",
   "version": "3.8.5"
  }
 },
 "nbformat": 4,
 "nbformat_minor": 5
}
