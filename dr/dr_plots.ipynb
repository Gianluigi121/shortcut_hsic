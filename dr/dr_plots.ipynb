{
 "cells": [
  {
   "cell_type": "code",
   "execution_count": 13,
   "metadata": {},
   "outputs": [],
   "source": [
    "import os, time\n",
    "import matplotlib.pyplot as plt\n",
    "import matplotlib\n",
    "import pandas as pd\n",
    "import numpy as np\n",
    "from sklearn.metrics import roc_auc_score, log_loss \n",
    "from pdfCropMargins import crop\n",
    "pd.options.mode.chained_assignment = None  # default='warn'\n",
    "import pickle "
   ]
  },
  {
   "cell_type": "code",
   "execution_count": 15,
   "metadata": {},
   "outputs": [],
   "source": [
    "base_dir_mit = '/data/ddmg/scate/multiple_shortcut/dr'\n",
    "base_dir_gl = '/nfs/turbo/coe-soto/mmakar/multiple_shortcut/dr'\n",
    "if os.path.exists(base_dir_mit):\n",
    "    base_dir = base_dir_mit\n",
    "elif os.path.exists(base_dir_gl):\n",
    "    base_dir = base_dir_gl \n",
    "    \n",
    "pixel = 299 \n",
    "batch_size = 64 \n",
    "py1y0 = 0.9\n",
    "seed_list = [i for i in range(10)]"
   ]
  },
  {
   "cell_type": "code",
   "execution_count": 16,
   "metadata": {},
   "outputs": [],
   "source": [
    "\n",
    "def percentile(n):\n",
    "    def percentile_(x):\n",
    "        return np.percentile(x, n)\n",
    "    percentile_.__name__ = 'percentile_%s' % n\n",
    "    return percentile_\n",
    "\n",
    "def single_class_auc(y_cat_true, y_cat_pred, single_class):\n",
    "    y_true = (y_cat_true == single_class) * 1\n",
    "    y_pred = y_cat_pred[[f'predictions{single_class}']]\n",
    "    return roc_auc_score(y_true, y_pred)\n",
    "\n",
    "def get_micro_auc(df):\n",
    "    df = pd.concat([df, pd.get_dummies(df.y0, prefix='y0')], axis=1)\n",
    "    final_df = []\n",
    "    for y_val in df.y0.unique().tolist():\n",
    "        curr_df = df[[f'y0_{y_val}',  f'predictions{int(y_val)}']]\n",
    "        curr_df.rename(columns={f'y0_{y_val}': 'y_true', \n",
    "            f'predictions{int(y_val)}': 'y_pred'}, inplace=True)\n",
    "        final_df.append(curr_df)\n",
    "    \n",
    "    final_df = pd.concat(final_df, ignore_index=True, axis=0)\n",
    "    return roc_auc_score(final_df.y_true, final_df.y_pred)\n"
   ]
  },
  {
   "cell_type": "code",
   "execution_count": 17,
   "metadata": {},
   "outputs": [],
   "source": [
    "def get_per_dist_metrics(df):\n",
    "    all_results = []\n",
    "    for dist in [0.1, 0.2, 0.3, 0.4, 0.5, 0.6, 0.7, 0.8, 0.9, 0.95]:\n",
    "#     for dist in [0.1, 0.5, 0.9]:\n",
    "        curr_df = df[(df.dist==dist)]\n",
    "        curr_eval = {'dist': dist}\n",
    "        curr_eval['macro_auc'] = roc_auc_score(curr_df.y0, curr_df[\n",
    "            [f'predictions{i}' for i in range(5)]], average='macro', multi_class='ovr')\n",
    "#         curr_eval['micro_auc'] = roc_auc_score(curr_df.y0, curr_df[\n",
    "#             [f'predictions{i}' for i in range(5)]], average='micro', multi_class='ovr')\n",
    "        curr_eval['micro_auc'] = get_micro_auc(curr_df)\n",
    "        curr_eval['log_loss'] = log_loss(curr_df.y0, curr_df[\n",
    "            [f'predictions{i}' for i in range(5)]])\n",
    "        \n",
    "        for single_class in range(5):\n",
    "            curr_eval[f'auc{single_class}'] = single_class_auc(curr_df.y0, curr_df[\n",
    "                [f'predictions{i}' for i in range(5)]], single_class)\n",
    "        curr_eval['worst_auc'] = np.min([curr_eval[f'auc{i}'] for i in range(5)])\n",
    "        all_results.append(curr_eval)\n",
    "    return pd.DataFrame(all_results)\n",
    "    \n",
    "\n",
    "def get_all_dist_metrics(random_seeds, model_name, xv_mode, py1y0=0.9):\n",
    "    all_eval = []\n",
    "    for random_seed in random_seeds: \n",
    "#         print((f'{base_dir}/final_models/opt_pred_rs{random_seed}_{model_name}_{xv_mode}'\n",
    "#              f'_pix{pixel}_bs{batch_size}_py1y0{py1y0}.csv'))\n",
    "        modification_time = os.path.getmtime((f'{base_dir}/final_models/opt_pred_rs{random_seed}_{model_name}_{xv_mode}'\n",
    "             f'_pix{pixel}_bs{batch_size}_py1y0{py1y0}.csv'))\n",
    "        local_time = time.ctime(modification_time)\n",
    "        print(local_time)\n",
    "        curr_pred = pd.read_csv(\n",
    "            (f'{base_dir}/final_models/opt_pred_rs{random_seed}_{model_name}_{xv_mode}'\n",
    "             f'_pix{pixel}_bs{batch_size}_py1y0{py1y0}.csv')) \n",
    "        all_eval.append(get_per_dist_metrics(curr_pred))\n",
    "        \n",
    "    all_eval = pd.concat(all_eval, ignore_index=True)\n",
    "    if len(random_seeds) > 1:\n",
    "        all_eval = all_eval.groupby('dist').agg(\n",
    "            [np.mean, np.std, np.median, percentile(25), percentile(75)]\n",
    "        ).reset_index()\n",
    "        all_eval.columns = ['_'.join(col).strip() for col in all_eval.columns.values]\n",
    "        all_eval.rename(columns={'dist_': 'dist'}, inplace=True)\n",
    "        for col in all_eval.columns:\n",
    "            if 'std' in col:\n",
    "                all_eval[col] = all_eval[col]/np.sqrt(len(random_seeds)*1.0)\n",
    "                \n",
    "    return all_eval\n",
    "\n",
    "\n",
    "def get_all_dist_metrics_all_models(random_seed, model_name, xv_mode, py1y0=0.9):\n",
    "    all_eval = []\n",
    "    curr_pred = pd.read_csv(\n",
    "        (f'{base_dir}/final_models/all_pred_{model_name}_{xv_mode}'\n",
    "         f'_pix{pixel}_bs{batch_size}_py1y0{py1y0}_epochs2.csv')) \n",
    "    for model in curr_pred.model.unique().tolist():\n",
    "        model_pred = curr_pred[(curr_pred.model == model)]\n",
    "        model_eval = get_per_dist_metrics(model_pred)\n",
    "        model_eval['model'] = f'{model_name}-{model[:5]}'\n",
    "        all_eval.append(model_eval)\n",
    "        \n",
    "    all_eval = pd.concat(all_eval, ignore_index=True)\n",
    "    return all_eval\n",
    "        \n",
    "    \n",
    "    "
   ]
  },
  {
   "cell_type": "code",
   "execution_count": 18,
   "metadata": {},
   "outputs": [
    {
     "name": "stdout",
     "output_type": "stream",
     "text": [
      "Tue May 17 07:59:19 2022\n",
      "Tue May 17 08:02:29 2022\n",
      "Tue May 17 08:05:39 2022\n",
      "Tue May 17 08:08:49 2022\n",
      "Tue May 17 08:11:59 2022\n",
      "Tue May 17 08:15:08 2022\n",
      "Tue May 17 08:18:17 2022\n",
      "Tue May 17 08:21:26 2022\n",
      "Tue May 17 08:24:36 2022\n",
      "Tue May 17 08:27:45 2022\n"
     ]
    }
   ],
   "source": [
    "model_name = 'unweighted_baseline'\n",
    "xv_mode = 'classic'\n",
    "uw_eval = get_all_dist_metrics(seed_list, model_name, xv_mode)\n",
    "uw_eval['model'] = 'L2'"
   ]
  },
  {
   "cell_type": "code",
   "execution_count": 19,
   "metadata": {},
   "outputs": [
    {
     "name": "stdout",
     "output_type": "stream",
     "text": [
      "Wed May 18 15:39:03 2022\n",
      "Wed May 18 15:42:20 2022\n",
      "Wed May 18 15:45:32 2022\n",
      "Wed May 18 15:48:41 2022\n",
      "Wed May 18 15:51:56 2022\n",
      "Wed May 18 15:55:18 2022\n",
      "Wed May 18 15:58:25 2022\n",
      "Wed May 18 16:01:37 2022\n",
      "Wed May 18 16:04:44 2022\n",
      "Wed May 18 16:07:50 2022\n"
     ]
    }
   ],
   "source": [
    "model_name = 'weighted_baseline'\n",
    "xv_mode = 'classic'\n",
    "w_eval = get_all_dist_metrics(seed_list, model_name, xv_mode)\n",
    "w_eval['model'] = 'W-L2'"
   ]
  },
  {
   "cell_type": "code",
   "execution_count": 20,
   "metadata": {},
   "outputs": [
    {
     "name": "stdout",
     "output_type": "stream",
     "text": [
      "Wed May 18 15:30:55 2022\n",
      "Wed May 18 15:33:57 2022\n",
      "Wed May 18 15:37:02 2022\n",
      "Wed May 18 15:40:06 2022\n",
      "Wed May 18 15:43:17 2022\n",
      "Wed May 18 15:46:22 2022\n",
      "Wed May 18 15:49:27 2022\n",
      "Wed May 18 15:52:31 2022\n",
      "Wed May 18 15:55:36 2022\n",
      "Wed May 18 15:58:42 2022\n"
     ]
    }
   ],
   "source": [
    "model_name = 'weighted_hsic'\n",
    "xv_mode = 'two_step'\n",
    "# wh_eval = get_all_dist_metrics_all_models(random_seed, model_name, xv_mode)\n",
    "# wh_eval_lst_or = [wh_eval[(wh_eval.model== model)] for model in wh_eval.model.unique().tolist()]\n",
    "\n",
    "# wh_eval_lst = [df for df in wh_eval_lst_or if df.micro_auc[(df.dist==0.1)].values[0] > 0.37 ]\n",
    "# wh_eval_lst = [df for df in wh_eval_lst if df.micro_auc[(df.dist==0.9)].values[0] > 0.55 ]\n",
    "\n",
    "wh_eval = get_all_dist_metrics(seed_list, model_name, xv_mode)\n",
    "wh_eval['model'] = 'Ours'\n",
    "# wh_eval_lst = [wh_eval]\n"
   ]
  },
  {
   "cell_type": "code",
   "execution_count": 21,
   "metadata": {},
   "outputs": [],
   "source": [
    "eval_perf = {\n",
    "    'uw_l2': uw_eval,  \n",
    "    'w_l2': w_eval, \n",
    "    'ours': wh_eval\n",
    "}\n",
    "\n",
    "pickle.dump(eval_perf, open(f'{base_dir}/final_models/final_plot_results.pkl', 'wb'))\n"
   ]
  },
  {
   "cell_type": "code",
   "execution_count": 9,
   "metadata": {},
   "outputs": [],
   "source": [
    "# rng = np.random.RandomState(0)\n",
    "# r = lambda: rng.choice(range(255))\n",
    "# wh_eval_lst = [wh_eval_lst_or[8], wh_eval_lst_or[4]]\n",
    "# 2, 4, 6, 7 --> s 10 \n",
    "# 3, 9 --> good"
   ]
  },
  {
   "cell_type": "code",
   "execution_count": 8,
   "metadata": {},
   "outputs": [],
   "source": [
    "def generate_plot(df_lst, lab_lst, metric, stat):  \n",
    "    x_loc = [i for i in range(len(df_lst[0].dist.unique()))]\n",
    "    for df_i, df in enumerate(df_lst):\n",
    "        \n",
    "        if f'{metric}_{stat}' in df.columns:\n",
    "            plt.errorbar(x_loc, df[f'{metric}_{stat}'], \n",
    "                         yerr= df[f'{metric}_std'], label=lab_lst[df_i], \n",
    "                         capsize= 5, color = col_lst[df_i])\n",
    "        else: \n",
    "            plt.errorbar(x_loc, df[metric], \n",
    "                         label=lab_lst[df_i], \n",
    "                         capsize= 5)\n",
    "    plt.axvline(x_loc[-2], linestyle='--', color='black')\n",
    "    _ = plt.xticks(x_loc, labels=df.dist.unique().tolist())\n",
    "    plt.xlabel('$P_t(V^p \\mid Y$) at test time', size=18)"
   ]
  },
  {
   "cell_type": "code",
   "execution_count": 9,
   "metadata": {},
   "outputs": [
    {
     "data": {
      "text/plain": [
       "(None, None, None)"
      ]
     },
     "execution_count": 9,
     "metadata": {},
     "output_type": "execute_result"
    },
    {
     "data": {
      "image/png": "[encoded data removed]",
      "text/plain": [
       "<Figure size 720x360 with 1 Axes>"
      ]
     },
     "metadata": {
      "needs_background": "light"
     },
     "output_type": "display_data"
    }
   ],
   "source": [
    "metric = 'micro_auc'\n",
    "stat = 'mean'\n",
    "fig = plt.figure(figsize=(10, 5))\n",
    "\n",
    "# matplotlib.rcParams['text.usetex'] = True\n",
    "# matplotlib.rcParams['font.family'] = 'serif'\n",
    "# matplotlib.rcParams['font.weight'] = 'extra bold'\n",
    "# matplotlib.rcParams['font.serif'] = 'Computer Modern Roman'\n",
    "# matplotlib.rcParams['axes.labelsize'] = 32\n",
    "# matplotlib.rcParams['ytick.labelsize'] = 24\n",
    "# matplotlib.rcParams['xtick.labelsize'] = 24\n",
    "# matplotlib.rcParams[\"legend.columnspacing\"] = 1\n",
    "\n",
    "# legend_text_size = 20\n",
    "\n",
    "df_lst = [uw_eval, w_eval, wh_eval] \n",
    "lab_lst = ['L2', 'W-L2', 'W-HSIC']\n",
    "\n",
    "col_lst = ['black','#336633', '#CC3300'] \n",
    "generate_plot(df_lst, lab_lst, metric, stat)\n",
    "_ = plt.legend(loc = 'upper left', ncol=3)\n",
    "_ = plt.ylabel(\"AUROC\", size=18)\n",
    "\n",
    "# for df_i, df in enumerate(df_lst):\n",
    "#     if f'{metric}_{stat}' in df.columns:\n",
    "#         plt.bar([i + width * df_i for i in x_loc], df[f'{metric}_{stat}'], \n",
    "#                      width=bar_width, yerr= df[f'{metric}_std'], label=lab_lst[df_i], \n",
    "#                      capsize= 5, color = col_lst[df_i])\n",
    "#     else: \n",
    "#         plt.bar([i + width * df_i for i in x_loc], df[metric], \n",
    "#                      width=bar_width, label=lab_lst[df_i], \n",
    "#                      capsize= 5)\n",
    "    \n",
    "# plt.ylim(bottom=0.5)\n",
    "plt.tight_layout()\n",
    "savename = f'{base_dir}/final_models/dr_main.pdf'\n",
    "plt.savefig(savename)\n",
    "cropped_savename = f'{base_dir}/final_models/dr_main_cropped.pdf' \n",
    "crop([\"-p\", \"5\", savename, \"-o\", cropped_savename])\n",
    "\n",
    "\n"
   ]
  },
  {
   "cell_type": "code",
   "execution_count": 12,
   "metadata": {},
   "outputs": [
    {
     "name": "stdout",
     "output_type": "stream",
     "text": [
      "max\n",
      "y0                                 4.0\n",
      "y1                                 1.0\n",
      "predictions0                  0.999962\n",
      "predictions1                  0.107918\n",
      "predictions2                  0.269828\n",
      "predictions3                  0.155611\n",
      "predictions4                   0.09253\n",
      "pred_class                           0\n",
      "dist                              0.95\n",
      "model           weighted_hsic_two_step\n",
      "dtype: object\n"
     ]
    }
   ],
   "source": [
    "random_seed = 9\n",
    "model_name = 'weighted_hsic'\n",
    "xv_mode = 'two_step'\n",
    "curr_pred = pd.read_csv(\n",
    "    (f'{base_dir}/final_models/opt_pred_rs{random_seed}_{model_name}_{xv_mode}'\n",
    "     f'_pix{pixel}_bs{batch_size}_py1y0{py1y0}.csv')) \n",
    "# print(\"mean\")\n",
    "# print(curr_pred.mean())\n",
    "\n",
    "# print(\"var\")\n",
    "# print(curr_pred.var())\n",
    "\n",
    "print(\"max\")\n",
    "print(curr_pred.max())\n"
   ]
  },
  {
   "cell_type": "code",
   "execution_count": 116,
   "metadata": {},
   "outputs": [
    {
     "ename": "NameError",
     "evalue": "name 'wh_eval_lst' is not defined",
     "output_type": "error",
     "traceback": [
      "\u001b[0;31m---------------------------------------------------------------------------\u001b[0m",
      "\u001b[0;31mNameError\u001b[0m                                 Traceback (most recent call last)",
      "\u001b[0;32m<ipython-input-116-ed56dd133d07>\u001b[0m in \u001b[0;36m<module>\u001b[0;34m\u001b[0m\n\u001b[1;32m      4\u001b[0m \u001b[0;34m\u001b[0m\u001b[0m\n\u001b[1;32m      5\u001b[0m \u001b[0;34m\u001b[0m\u001b[0m\n\u001b[0;32m----> 6\u001b[0;31m \u001b[0mdf_lst\u001b[0m \u001b[0;34m=\u001b[0m \u001b[0;34m[\u001b[0m\u001b[0muw_eval\u001b[0m\u001b[0;34m,\u001b[0m \u001b[0mw_eval\u001b[0m\u001b[0;34m]\u001b[0m \u001b[0;34m+\u001b[0m \u001b[0mwh_eval_lst\u001b[0m\u001b[0;34m\u001b[0m\u001b[0;34m\u001b[0m\u001b[0m\n\u001b[0m\u001b[1;32m      7\u001b[0m lab_lst = ['DNN', 'wDNN'] + [\n\u001b[1;32m      8\u001b[0m     f'o{i}' for i in range(len(wh_eval_lst))]\n",
      "\u001b[0;31mNameError\u001b[0m: name 'wh_eval_lst' is not defined"
     ]
    },
    {
     "data": {
      "text/plain": [
       "<Figure size 864x504 with 0 Axes>"
      ]
     },
     "metadata": {},
     "output_type": "display_data"
    }
   ],
   "source": [
    "metric = 'macro_auc'\n",
    "stat = 'mean'\n",
    "fig = plt.figure(figsize=(12, 7))\n",
    "\n",
    "\n",
    "df_lst = [uw_eval, w_eval] + wh_eval_lst\n",
    "lab_lst = ['DNN', 'wDNN'] + [\n",
    "    f'o{i}' for i in range(len(wh_eval_lst))]\n",
    "# col_lst = ['#%02X%02X%02X' % (r(),r(),r()) for i in range(len(df_lst))]\n",
    "col_lst = ['black','#FF9900', '#336633', '#3333CC',  '#9900CC', '#C85200'] \n",
    "generate_plot(df_lst, lab_lst, metric, stat)\n",
    "\n",
    "\n",
    "# for df_i, df in enumerate(df_lst):\n",
    "#     if f'{metric}_{stat}' in df.columns:\n",
    "#         plt.bar([i + width * df_i for i in x_loc], df[f'{metric}_{stat}'], \n",
    "#                      width=bar_width, yerr= df[f'{metric}_std'], label=lab_lst[df_i], \n",
    "#                      capsize= 5, color = col_lst[df_i])\n",
    "#     else: \n",
    "#         plt.bar([i + width * df_i for i in x_loc], df[metric], \n",
    "#                      width=bar_width, label=lab_lst[df_i], \n",
    "#                      capsize= 5)\n",
    "    \n",
    "# plt.ylim(bottom=0.1)\n",
    "plt.legend(loc = 'upper left')\n"
   ]
  },
  {
   "cell_type": "code",
   "execution_count": 84,
   "metadata": {},
   "outputs": [
    {
     "ename": "NameError",
     "evalue": "name 'wh_eval_lst' is not defined",
     "output_type": "error",
     "traceback": [
      "\u001b[0;31m---------------------------------------------------------------------------\u001b[0m",
      "\u001b[0;31mNameError\u001b[0m                                 Traceback (most recent call last)",
      "\u001b[0;32m<ipython-input-84-3b94341f2ff8>\u001b[0m in \u001b[0;36m<module>\u001b[0;34m\u001b[0m\n\u001b[1;32m      4\u001b[0m \u001b[0;34m\u001b[0m\u001b[0m\n\u001b[1;32m      5\u001b[0m \u001b[0;34m\u001b[0m\u001b[0m\n\u001b[0;32m----> 6\u001b[0;31m \u001b[0mdf_lst\u001b[0m \u001b[0;34m=\u001b[0m \u001b[0;34m[\u001b[0m\u001b[0muw_eval\u001b[0m\u001b[0;34m,\u001b[0m \u001b[0mw_eval\u001b[0m\u001b[0;34m]\u001b[0m \u001b[0;34m+\u001b[0m \u001b[0mwh_eval_lst\u001b[0m\u001b[0;34m\u001b[0m\u001b[0;34m\u001b[0m\u001b[0m\n\u001b[0m\u001b[1;32m      7\u001b[0m lab_lst = ['DNN', 'wDNN'] + [\n\u001b[1;32m      8\u001b[0m     f'o{i}' for i in range(len(wh_eval_lst))]\n",
      "\u001b[0;31mNameError\u001b[0m: name 'wh_eval_lst' is not defined"
     ]
    },
    {
     "data": {
      "text/plain": [
       "<Figure size 864x504 with 0 Axes>"
      ]
     },
     "metadata": {},
     "output_type": "display_data"
    }
   ],
   "source": [
    "metric = 'log_loss'\n",
    "stat = 'mean'\n",
    "fig = plt.figure(figsize=(12, 7))\n",
    "\n",
    "\n",
    "df_lst = [uw_eval, w_eval] + wh_eval_lst\n",
    "lab_lst = ['DNN', 'wDNN'] + [\n",
    "    f'o{i}' for i in range(len(wh_eval_lst))]\n",
    "# col_lst = ['#%02X%02X%02X' % (r(),r(),r()) for i in range(len(df_lst))]\n",
    "col_lst = ['black','#FF9900', '#336633', '#3333CC',  '#9900CC', '#C85200'] \n",
    "generate_plot(df_lst, lab_lst, metric, stat)\n",
    "\n",
    "\n",
    "# for df_i, df in enumerate(df_lst):\n",
    "#     if f'{metric}_{stat}' in df.columns:\n",
    "#         plt.bar([i + width * df_i for i in x_loc], df[f'{metric}_{stat}'], \n",
    "#                      width=bar_width, yerr= df[f'{metric}_std'], label=lab_lst[df_i], \n",
    "#                      capsize= 5, color = col_lst[df_i])\n",
    "#     else: \n",
    "#         plt.bar([i + width * df_i for i in x_loc], df[metric], \n",
    "#                      width=bar_width, label=lab_lst[df_i], \n",
    "#                      capsize= 5)\n",
    "    \n",
    "# plt.ylim(bottom=0.1)\n",
    "plt.legend(loc = 'upper left')"
   ]
  },
  {
   "cell_type": "code",
   "execution_count": 85,
   "metadata": {},
   "outputs": [
    {
     "ename": "NameError",
     "evalue": "name 'wh_eval_lst' is not defined",
     "output_type": "error",
     "traceback": [
      "\u001b[0;31m---------------------------------------------------------------------------\u001b[0m",
      "\u001b[0;31mNameError\u001b[0m                                 Traceback (most recent call last)",
      "\u001b[0;32m<ipython-input-85-ac4fd451571d>\u001b[0m in \u001b[0;36m<module>\u001b[0;34m\u001b[0m\n\u001b[1;32m      3\u001b[0m \u001b[0mfig\u001b[0m \u001b[0;34m=\u001b[0m \u001b[0mplt\u001b[0m\u001b[0;34m.\u001b[0m\u001b[0mfigure\u001b[0m\u001b[0;34m(\u001b[0m\u001b[0mfigsize\u001b[0m\u001b[0;34m=\u001b[0m\u001b[0;34m(\u001b[0m\u001b[0;36m12\u001b[0m\u001b[0;34m,\u001b[0m \u001b[0;36m7\u001b[0m\u001b[0;34m)\u001b[0m\u001b[0;34m)\u001b[0m\u001b[0;34m\u001b[0m\u001b[0;34m\u001b[0m\u001b[0m\n\u001b[1;32m      4\u001b[0m \u001b[0;34m\u001b[0m\u001b[0m\n\u001b[0;32m----> 5\u001b[0;31m \u001b[0mdf_lst\u001b[0m \u001b[0;34m=\u001b[0m \u001b[0;34m[\u001b[0m\u001b[0muw_eval\u001b[0m\u001b[0;34m,\u001b[0m \u001b[0mw_eval\u001b[0m\u001b[0;34m]\u001b[0m \u001b[0;34m+\u001b[0m \u001b[0mwh_eval_lst\u001b[0m\u001b[0;34m\u001b[0m\u001b[0;34m\u001b[0m\u001b[0m\n\u001b[0m\u001b[1;32m      6\u001b[0m lab_lst = ['DNN', 'wDNN'] + [\n\u001b[1;32m      7\u001b[0m     f'o{i}' for i in range(len(wh_eval_lst))]\n",
      "\u001b[0;31mNameError\u001b[0m: name 'wh_eval_lst' is not defined"
     ]
    },
    {
     "data": {
      "text/plain": [
       "<Figure size 864x504 with 0 Axes>"
      ]
     },
     "metadata": {},
     "output_type": "display_data"
    }
   ],
   "source": [
    "metric = 'worst_auc'\n",
    "stat = 'mean'\n",
    "fig = plt.figure(figsize=(12, 7))\n",
    "\n",
    "df_lst = [uw_eval, w_eval] + wh_eval_lst\n",
    "lab_lst = ['DNN', 'wDNN'] + [\n",
    "    f'o{i}' for i in range(len(wh_eval_lst))]\n",
    "# col_lst = ['#%02X%02X%02X' % (r(),r(),r()) for i in range(len(df_lst))]\n",
    "col_lst = ['black','#FF9900', '#336633', '#3333CC',  '#9900CC', '#C85200'] \n",
    "generate_plot(df_lst, lab_lst, metric, stat)\n",
    "\n",
    "\n",
    "# for df_i, df in enumerate(df_lst):\n",
    "#     if f'{metric}_{stat}' in df.columns:\n",
    "#         plt.bar([i + width * df_i for i in x_loc], df[f'{metric}_{stat}'], \n",
    "#                      width=bar_width, yerr= df[f'{metric}_std'], label=lab_lst[df_i], \n",
    "#                      capsize= 5, color = col_lst[df_i])\n",
    "#     else: \n",
    "#         plt.bar([i + width * df_i for i in x_loc], df[metric], \n",
    "#                      width=bar_width, label=lab_lst[df_i], \n",
    "#                      capsize= 5)\n",
    "    \n",
    "plt.ylim(bottom=0.1)\n",
    "plt.legend(loc = 'upper left')"
   ]
  },
  {
   "cell_type": "code",
   "execution_count": 10,
   "metadata": {},
   "outputs": [],
   "source": [
    "def sigmoid(x):\n",
    "\treturn 1 / (1 + np.exp(-x))"
   ]
  },
  {
   "cell_type": "code",
   "execution_count": 11,
   "metadata": {},
   "outputs": [
    {
     "data": {
      "text/plain": [
       "0.6984652160025387"
      ]
     },
     "execution_count": 11,
     "metadata": {},
     "output_type": "execute_result"
    }
   ],
   "source": [
    "sigmoid(0.84)"
   ]
  },
  {
   "cell_type": "code",
   "execution_count": 12,
   "metadata": {},
   "outputs": [
    {
     "data": {
      "text/plain": [
       "0.598687660112452"
      ]
     },
     "execution_count": 12,
     "metadata": {},
     "output_type": "execute_result"
    }
   ],
   "source": [
    "sigmoid(0.4)"
   ]
  },
  {
   "cell_type": "code",
   "execution_count": null,
   "metadata": {},
   "outputs": [],
   "source": []
  }
 ],
 "metadata": {
  "kernelspec": {
   "display_name": "slabs",
   "language": "python",
   "name": "slabs"
  },
  "language_info": {
   "codemirror_mode": {
    "name": "ipython",
    "version": 3
   },
   "file_extension": ".py",
   "mimetype": "text/x-python",
   "name": "python",
   "nbconvert_exporter": "python",
   "pygments_lexer": "ipython3",
   "version": "3.8.5"
  }
 },
 "nbformat": 4,
 "nbformat_minor": 4
}
